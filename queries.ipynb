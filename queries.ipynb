{
 "cells": [
  {
   "cell_type": "markdown",
   "metadata": {},
   "source": [
    "# RESULTS"
   ]
  },
  {
   "cell_type": "code",
   "execution_count": 2,
   "metadata": {},
   "outputs": [],
   "source": [
    "from pprint import pprint \n",
    "from DbConnector import DbConnector\n",
    "from haversine import haversine, Unit\n",
    "from tabulate import tabulate\n",
    "from datetime import timedelta"
   ]
  },
  {
   "cell_type": "code",
   "execution_count": 3,
   "metadata": {},
   "outputs": [
    {
     "name": "stdout",
     "output_type": "stream",
     "text": [
      "You are connected to the database: geolife\n",
      "-----------------------------------------------\n",
      "\n"
     ]
    }
   ],
   "source": [
    "try:\n",
    "    connection = DbConnector()\n",
    "    client = connection.client\n",
    "    db = connection.db\n",
    "except Exception as e:\n",
    "    print(\"ERROR: Failed to connect to db:\", e)"
   ]
  },
  {
   "cell_type": "markdown",
   "metadata": {},
   "source": [
    "# PART 1"
   ]
  },
  {
   "cell_type": "markdown",
   "metadata": {},
   "source": [
    "### Showing the 10 first documents of each collection in the database, after data is inserted"
   ]
  },
  {
   "cell_type": "markdown",
   "metadata": {},
   "source": [
    "#### User:"
   ]
  },
  {
   "cell_type": "code",
   "execution_count": 3,
   "metadata": {},
   "outputs": [
    {
     "name": "stdout",
     "output_type": "stream",
     "text": [
      "{'_id': '000', 'has_labels': False}\n",
      "{'_id': '001', 'has_labels': False}\n",
      "{'_id': '002', 'has_labels': False}\n",
      "{'_id': '003', 'has_labels': False}\n",
      "{'_id': '004', 'has_labels': False}\n",
      "{'_id': '005', 'has_labels': False}\n",
      "{'_id': '006', 'has_labels': False}\n",
      "{'_id': '007', 'has_labels': False}\n",
      "{'_id': '008', 'has_labels': False}\n",
      "{'_id': '009', 'has_labels': False}\n"
     ]
    }
   ],
   "source": [
    "documents = db.user.find().limit(10)\n",
    "for doc in documents: \n",
    "    pprint(doc)"
   ]
  },
  {
   "cell_type": "markdown",
   "metadata": {},
   "source": [
    "#### Activity:"
   ]
  },
  {
   "cell_type": "markdown",
   "metadata": {},
   "source": [
    "Since each activity has a reference to the ObjectId of all its trackpoints (could be up to 2500), I only print the first five trackpoints for each Activity to save space: "
   ]
  },
  {
   "cell_type": "code",
   "execution_count": 4,
   "metadata": {},
   "outputs": [
    {
     "name": "stdout",
     "output_type": "stream",
     "text": [
      "{'_id': 1,\n",
      " 'end_time': datetime.datetime(2008, 10, 23, 11, 11, 12),\n",
      " 'start_time': datetime.datetime(2008, 10, 23, 2, 53, 4),\n",
      " 'trackpoints': [ObjectId('67177386bbd1c9b22735a590'),\n",
      "                 ObjectId('67177386bbd1c9b22735a591'),\n",
      "                 ObjectId('67177386bbd1c9b22735a592'),\n",
      "                 ObjectId('67177386bbd1c9b22735a593'),\n",
      "                 ObjectId('67177386bbd1c9b22735a594')],\n",
      " 'transportation_mode': None,\n",
      " 'user_id': '000'}\n",
      "{'_id': 2,\n",
      " 'end_time': datetime.datetime(2008, 10, 24, 2, 47, 6),\n",
      " 'start_time': datetime.datetime(2008, 10, 24, 2, 9, 59),\n",
      " 'trackpoints': [ObjectId('67177387bbd1c9b22735a91c'),\n",
      "                 ObjectId('67177387bbd1c9b22735a91d'),\n",
      "                 ObjectId('67177387bbd1c9b22735a91e'),\n",
      "                 ObjectId('67177387bbd1c9b22735a91f'),\n",
      "                 ObjectId('67177387bbd1c9b22735a920')],\n",
      " 'transportation_mode': None,\n",
      " 'user_id': '000'}\n",
      "{'_id': 3,\n",
      " 'end_time': datetime.datetime(2008, 10, 26, 15, 4, 7),\n",
      " 'start_time': datetime.datetime(2008, 10, 26, 13, 44, 7),\n",
      " 'trackpoints': [ObjectId('67177387bbd1c9b22735aa10'),\n",
      "                 ObjectId('67177387bbd1c9b22735aa11'),\n",
      "                 ObjectId('67177387bbd1c9b22735aa12'),\n",
      "                 ObjectId('67177387bbd1c9b22735aa13'),\n",
      "                 ObjectId('67177387bbd1c9b22735aa14')],\n",
      " 'transportation_mode': None,\n",
      " 'user_id': '000'}\n",
      "{'_id': 4,\n",
      " 'end_time': datetime.datetime(2008, 10, 27, 12, 5, 54),\n",
      " 'start_time': datetime.datetime(2008, 10, 27, 11, 54, 49),\n",
      " 'trackpoints': [ObjectId('67177387bbd1c9b22735acf9'),\n",
      "                 ObjectId('67177387bbd1c9b22735acfa'),\n",
      "                 ObjectId('67177387bbd1c9b22735acfb'),\n",
      "                 ObjectId('67177387bbd1c9b22735acfc'),\n",
      "                 ObjectId('67177387bbd1c9b22735acfd')],\n",
      " 'transportation_mode': None,\n",
      " 'user_id': '000'}\n",
      "{'_id': 5,\n",
      " 'end_time': datetime.datetime(2008, 10, 28, 5, 3, 42),\n",
      " 'start_time': datetime.datetime(2008, 10, 28, 0, 38, 26),\n",
      " 'trackpoints': [ObjectId('67177387bbd1c9b22735ad2b'),\n",
      "                 ObjectId('67177387bbd1c9b22735ad2c'),\n",
      "                 ObjectId('67177387bbd1c9b22735ad2d'),\n",
      "                 ObjectId('67177387bbd1c9b22735ad2e'),\n",
      "                 ObjectId('67177387bbd1c9b22735ad2f')],\n",
      " 'transportation_mode': None,\n",
      " 'user_id': '000'}\n",
      "{'_id': 6,\n",
      " 'end_time': datetime.datetime(2008, 10, 29, 9, 30, 28),\n",
      " 'start_time': datetime.datetime(2008, 10, 29, 9, 21, 38),\n",
      " 'trackpoints': [ObjectId('67177387bbd1c9b22735b2f0'),\n",
      "                 ObjectId('67177387bbd1c9b22735b2f1'),\n",
      "                 ObjectId('67177387bbd1c9b22735b2f2'),\n",
      "                 ObjectId('67177387bbd1c9b22735b2f3'),\n",
      "                 ObjectId('67177387bbd1c9b22735b2f4')],\n",
      " 'transportation_mode': None,\n",
      " 'user_id': '000'}\n",
      "{'_id': 7,\n",
      " 'end_time': datetime.datetime(2008, 10, 29, 9, 46, 43),\n",
      " 'start_time': datetime.datetime(2008, 10, 29, 9, 30, 38),\n",
      " 'trackpoints': [ObjectId('67177387bbd1c9b22735b305'),\n",
      "                 ObjectId('67177387bbd1c9b22735b306'),\n",
      "                 ObjectId('67177387bbd1c9b22735b307'),\n",
      "                 ObjectId('67177387bbd1c9b22735b308'),\n",
      "                 ObjectId('67177387bbd1c9b22735b309')],\n",
      " 'transportation_mode': None,\n",
      " 'user_id': '000'}\n",
      "{'_id': 8,\n",
      " 'end_time': datetime.datetime(2008, 11, 3, 10, 16, 1),\n",
      " 'start_time': datetime.datetime(2008, 11, 3, 10, 13, 36),\n",
      " 'trackpoints': [ObjectId('67177387bbd1c9b22735b3bb'),\n",
      "                 ObjectId('67177387bbd1c9b22735b3bc'),\n",
      "                 ObjectId('67177387bbd1c9b22735b3bd'),\n",
      "                 ObjectId('67177387bbd1c9b22735b3be'),\n",
      "                 ObjectId('67177387bbd1c9b22735b3bf')],\n",
      " 'transportation_mode': None,\n",
      " 'user_id': '000'}\n",
      "{'_id': 9,\n",
      " 'end_time': datetime.datetime(2008, 11, 4, 3, 31, 8),\n",
      " 'start_time': datetime.datetime(2008, 11, 3, 23, 21, 53),\n",
      " 'trackpoints': [ObjectId('67177387bbd1c9b22735b3c2'),\n",
      "                 ObjectId('67177387bbd1c9b22735b3c3'),\n",
      "                 ObjectId('67177387bbd1c9b22735b3c4'),\n",
      "                 ObjectId('67177387bbd1c9b22735b3c5'),\n",
      "                 ObjectId('67177387bbd1c9b22735b3c6')],\n",
      " 'transportation_mode': None,\n",
      " 'user_id': '000'}\n",
      "{'_id': 10,\n",
      " 'end_time': datetime.datetime(2008, 11, 10, 3, 46, 12),\n",
      " 'start_time': datetime.datetime(2008, 11, 10, 1, 36, 37),\n",
      " 'trackpoints': [ObjectId('67177387bbd1c9b22735bc79'),\n",
      "                 ObjectId('67177387bbd1c9b22735bc7a'),\n",
      "                 ObjectId('67177387bbd1c9b22735bc7b'),\n",
      "                 ObjectId('67177387bbd1c9b22735bc7c'),\n",
      "                 ObjectId('67177387bbd1c9b22735bc7d')],\n",
      " 'transportation_mode': None,\n",
      " 'user_id': '000'}\n"
     ]
    }
   ],
   "source": [
    "documents = db.activity.find().limit(10)\n",
    "for doc in documents:\n",
    "    if 'trackpoints' in doc:\n",
    "        doc['trackpoints'] = doc['trackpoints'][:5]\n",
    "    pprint(doc)"
   ]
  },
  {
   "cell_type": "markdown",
   "metadata": {},
   "source": [
    "#### Trackpoint"
   ]
  },
  {
   "cell_type": "code",
   "execution_count": 5,
   "metadata": {},
   "outputs": [
    {
     "name": "stdout",
     "output_type": "stream",
     "text": [
      "{'_id': ObjectId('67177386bbd1c9b22735a590'),\n",
      " 'activity_id': 1,\n",
      " 'altitude': 492,\n",
      " 'date_days': 39744.1201851852,\n",
      " 'date_time': datetime.datetime(2008, 10, 23, 2, 53, 4),\n",
      " 'lat': 39.984702,\n",
      " 'lon': 116.318417}\n",
      "{'_id': ObjectId('67177386bbd1c9b22735a591'),\n",
      " 'activity_id': 1,\n",
      " 'altitude': 492,\n",
      " 'date_days': 39744.1202546296,\n",
      " 'date_time': datetime.datetime(2008, 10, 23, 2, 53, 10),\n",
      " 'lat': 39.984683,\n",
      " 'lon': 116.31845}\n",
      "{'_id': ObjectId('67177386bbd1c9b22735a592'),\n",
      " 'activity_id': 1,\n",
      " 'altitude': 492,\n",
      " 'date_days': 39744.1203125,\n",
      " 'date_time': datetime.datetime(2008, 10, 23, 2, 53, 15),\n",
      " 'lat': 39.984686,\n",
      " 'lon': 116.318417}\n",
      "{'_id': ObjectId('67177386bbd1c9b22735a593'),\n",
      " 'activity_id': 1,\n",
      " 'altitude': 492,\n",
      " 'date_days': 39744.1203703704,\n",
      " 'date_time': datetime.datetime(2008, 10, 23, 2, 53, 20),\n",
      " 'lat': 39.984688,\n",
      " 'lon': 116.318385}\n",
      "{'_id': ObjectId('67177386bbd1c9b22735a594'),\n",
      " 'activity_id': 1,\n",
      " 'altitude': 492,\n",
      " 'date_days': 39744.1204282407,\n",
      " 'date_time': datetime.datetime(2008, 10, 23, 2, 53, 25),\n",
      " 'lat': 39.984655,\n",
      " 'lon': 116.318263}\n",
      "{'_id': ObjectId('67177386bbd1c9b22735a595'),\n",
      " 'activity_id': 1,\n",
      " 'altitude': 493,\n",
      " 'date_days': 39744.1204861111,\n",
      " 'date_time': datetime.datetime(2008, 10, 23, 2, 53, 30),\n",
      " 'lat': 39.984611,\n",
      " 'lon': 116.318026}\n",
      "{'_id': ObjectId('67177386bbd1c9b22735a596'),\n",
      " 'activity_id': 1,\n",
      " 'altitude': 493,\n",
      " 'date_days': 39744.1205439815,\n",
      " 'date_time': datetime.datetime(2008, 10, 23, 2, 53, 35),\n",
      " 'lat': 39.984608,\n",
      " 'lon': 116.317761}\n",
      "{'_id': ObjectId('67177386bbd1c9b22735a597'),\n",
      " 'activity_id': 1,\n",
      " 'altitude': 496,\n",
      " 'date_days': 39744.1206018519,\n",
      " 'date_time': datetime.datetime(2008, 10, 23, 2, 53, 40),\n",
      " 'lat': 39.984563,\n",
      " 'lon': 116.317517}\n",
      "{'_id': ObjectId('67177386bbd1c9b22735a598'),\n",
      " 'activity_id': 1,\n",
      " 'altitude': 500,\n",
      " 'date_days': 39744.1206597222,\n",
      " 'date_time': datetime.datetime(2008, 10, 23, 2, 53, 45),\n",
      " 'lat': 39.984539,\n",
      " 'lon': 116.317294}\n",
      "{'_id': ObjectId('67177386bbd1c9b22735a599'),\n",
      " 'activity_id': 1,\n",
      " 'altitude': 505,\n",
      " 'date_days': 39744.1207175926,\n",
      " 'date_time': datetime.datetime(2008, 10, 23, 2, 53, 50),\n",
      " 'lat': 39.984606,\n",
      " 'lon': 116.317065}\n"
     ]
    }
   ],
   "source": [
    "documents = db.trackpoint.find().limit(10)\n",
    "for doc in documents:\n",
    "    pprint(doc)"
   ]
  },
  {
   "cell_type": "markdown",
   "metadata": {},
   "source": [
    "# PART 2"
   ]
  },
  {
   "cell_type": "markdown",
   "metadata": {},
   "source": [
    "#### 1. How many users, activities, and trackpoints are there in the dataset (after it is inserted into the database)."
   ]
  },
  {
   "cell_type": "code",
   "execution_count": 6,
   "metadata": {},
   "outputs": [
    {
     "name": "stdout",
     "output_type": "stream",
     "text": [
      "+------------+---------+\n",
      "| Collection |  Count  |\n",
      "+------------+---------+\n",
      "|    User    |   182   |\n",
      "|  Activity  |  16050  |\n",
      "| Trackpoint | 9686758 |\n",
      "+------------+---------+\n"
     ]
    }
   ],
   "source": [
    "user_count = db.user.count_documents({})\n",
    "activity_count = db.activity.count_documents({})\n",
    "tp_count = db.trackpoint.count_documents({})\n",
    "rows = [\n",
    "    [\"User\", user_count],\n",
    "    [\"Activity\", activity_count],\n",
    "    [\"Trackpoint\", tp_count]\n",
    "]\n",
    "print(tabulate(rows, headers=[\"Collection\", \"Count\"], tablefmt=\"pretty\"))"
   ]
  },
  {
   "cell_type": "markdown",
   "metadata": {},
   "source": [
    "#### 2. Find the average number of activities per user."
   ]
  },
  {
   "cell_type": "code",
   "execution_count": 7,
   "metadata": {},
   "outputs": [
    {
     "name": "stdout",
     "output_type": "stream",
     "text": [
      "{'_id': None, 'average_activities_per_user': 92.77456647398844}\n"
     ]
    }
   ],
   "source": [
    "pipeline = [\n",
    "    {\n",
    "        \"$group\": {\n",
    "            \"_id\": \"$user_id\",\n",
    "            \"activity_count\": {\"$sum\": 1}  # Count activities per user\n",
    "        }\n",
    "    },\n",
    "    {\n",
    "        \"$group\": {\n",
    "            \"_id\": None,\n",
    "            \"average_activities_per_user\": {\"$avg\": \"$activity_count\"}\n",
    "        }\n",
    "    }\n",
    "]\n",
    "result = db.activity.aggregate(pipeline)\n",
    "for doc in result:\n",
    "    pprint(doc)"
   ]
  },
  {
   "cell_type": "markdown",
   "metadata": {},
   "source": [
    "#### 3. Find the top 20 users with the highest number of activities."
   ]
  },
  {
   "cell_type": "code",
   "execution_count": 8,
   "metadata": {},
   "outputs": [
    {
     "name": "stdout",
     "output_type": "stream",
     "text": [
      "{'_id': '128', 'activity_count': 2102}\n",
      "{'_id': '153', 'activity_count': 1794}\n",
      "{'_id': '025', 'activity_count': 715}\n",
      "{'_id': '163', 'activity_count': 704}\n",
      "{'_id': '062', 'activity_count': 691}\n",
      "{'_id': '144', 'activity_count': 563}\n",
      "{'_id': '041', 'activity_count': 399}\n",
      "{'_id': '085', 'activity_count': 364}\n",
      "{'_id': '004', 'activity_count': 346}\n",
      "{'_id': '140', 'activity_count': 345}\n",
      "{'_id': '167', 'activity_count': 320}\n",
      "{'_id': '068', 'activity_count': 280}\n",
      "{'_id': '017', 'activity_count': 265}\n",
      "{'_id': '003', 'activity_count': 261}\n",
      "{'_id': '014', 'activity_count': 236}\n",
      "{'_id': '126', 'activity_count': 215}\n",
      "{'_id': '030', 'activity_count': 210}\n",
      "{'_id': '112', 'activity_count': 208}\n",
      "{'_id': '011', 'activity_count': 201}\n",
      "{'_id': '039', 'activity_count': 198}\n"
     ]
    }
   ],
   "source": [
    "pipeline = [\n",
    "    {\n",
    "        \"$group\": {\n",
    "            \"_id\": \"$user_id\",\n",
    "            \"activity_count\": {\"$sum\": 1}\n",
    "        }\n",
    "    },\n",
    "    {\n",
    "        \"$sort\": {\n",
    "            'activity_count': -1\n",
    "        }\n",
    "    },\n",
    "    {\n",
    "        \"$limit\": 20\n",
    "    }\n",
    "]\n",
    "result = db.activity.aggregate(pipeline)\n",
    "for doc in result:\n",
    "    pprint(doc)"
   ]
  },
  {
   "cell_type": "markdown",
   "metadata": {},
   "source": [
    "#### 4. Find all users who have taken a taxi."
   ]
  },
  {
   "cell_type": "code",
   "execution_count": 9,
   "metadata": {},
   "outputs": [
    {
     "name": "stdout",
     "output_type": "stream",
     "text": [
      "{'_id': '010'}\n",
      "{'_id': '058'}\n",
      "{'_id': '062'}\n",
      "{'_id': '078'}\n",
      "{'_id': '080'}\n",
      "{'_id': '085'}\n",
      "{'_id': '098'}\n",
      "{'_id': '111'}\n",
      "{'_id': '128'}\n",
      "{'_id': '163'}\n"
     ]
    }
   ],
   "source": [
    "pipeline = [\n",
    "    {\n",
    "        \"$match\": {\n",
    "            \"transportation_mode\": \"taxi\"\n",
    "        }\n",
    "    },\n",
    "    {\n",
    "        \"$group\": {\n",
    "            \"_id\": \"$user_id\"\n",
    "        }\n",
    "    },\n",
    "    {\n",
    "        \"$sort\": {\n",
    "            \"_id\": 1\n",
    "        }\n",
    "    }\n",
    "]\n",
    "result = db.activity.aggregate(pipeline)\n",
    "for doc in result:\n",
    "    pprint(doc)\n"
   ]
  },
  {
   "cell_type": "markdown",
   "metadata": {},
   "source": [
    "#### 5. Find all types of transportation modes and count how many activities that are tagged with these transportation mode labels. Do not count the rows where the mode is null."
   ]
  },
  {
   "cell_type": "code",
   "execution_count": 10,
   "metadata": {},
   "outputs": [
    {
     "name": "stdout",
     "output_type": "stream",
     "text": [
      "{'_id': 'walk', 'activity_count': 480}\n",
      "{'_id': 'car', 'activity_count': 419}\n",
      "{'_id': 'bike', 'activity_count': 263}\n",
      "{'_id': 'bus', 'activity_count': 199}\n",
      "{'_id': 'subway', 'activity_count': 133}\n",
      "{'_id': 'taxi', 'activity_count': 37}\n",
      "{'_id': 'airplane', 'activity_count': 3}\n",
      "{'_id': 'train', 'activity_count': 2}\n",
      "{'_id': 'boat', 'activity_count': 1}\n",
      "{'_id': 'run', 'activity_count': 1}\n"
     ]
    }
   ],
   "source": [
    "pipeline = [\n",
    "    {\n",
    "        \"$match\": {\n",
    "            \"transportation_mode\": {\"$ne\": None}\n",
    "        }\n",
    "    },\n",
    "    {\n",
    "        \"$group\": {\n",
    "            \"_id\": \"$transportation_mode\",\n",
    "            \"activity_count\": {\"$sum\": 1}\n",
    "        }\n",
    "    },\n",
    "    {\n",
    "        \"$sort\": {\n",
    "            \"activity_count\": -1\n",
    "        }\n",
    "    }\n",
    "]\n",
    "results = db.activity.aggregate(pipeline)\n",
    "for doc in results:\n",
    "    pprint(doc)"
   ]
  },
  {
   "cell_type": "markdown",
   "metadata": {},
   "source": [
    "#### 6. a) Find the year with the most activities."
   ]
  },
  {
   "cell_type": "code",
   "execution_count": 11,
   "metadata": {},
   "outputs": [
    {
     "name": "stdout",
     "output_type": "stream",
     "text": [
      "{'_id': 2008, 'activity_count': 5895}\n"
     ]
    }
   ],
   "source": [
    "pipeline = [\n",
    "    {\n",
    "        \"$project\": {\n",
    "            \"activity_year\": {\"$year\": \"$start_time\"}\n",
    "        }\n",
    "    },\n",
    "    {\n",
    "        \"$group\": {\n",
    "            \"_id\": \"$activity_year\",\n",
    "            \"activity_count\": {\"$sum\": 1}\n",
    "        }\n",
    "    },\n",
    "    {\n",
    "        \"$sort\": {\n",
    "            \"activity_count\": -1\n",
    "        }\n",
    "    }\n",
    "]\n",
    "results = db.activity.aggregate(pipeline)\n",
    "pprint(results.next())"
   ]
  },
  {
   "cell_type": "markdown",
   "metadata": {},
   "source": [
    "2008 is the year with the most activities."
   ]
  },
  {
   "cell_type": "markdown",
   "metadata": {},
   "source": [
    "#### 6. b) Is this also the year with most recorded hours? "
   ]
  },
  {
   "cell_type": "code",
   "execution_count": 12,
   "metadata": {},
   "outputs": [
    {
     "name": "stdout",
     "output_type": "stream",
     "text": [
      "{'_id': 2009, 'total_hours': 11616.0}\n"
     ]
    }
   ],
   "source": [
    "pipeline = [\n",
    "    {\n",
    "        \"$project\": {\n",
    "            \"activity_year\": {\"$year\": \"$start_time\"},\n",
    "            \"hours_diff\": {\n",
    "                \"$divide\": [{\"$dateDiff\": {\n",
    "                            \"startDate\": \"$start_time\",\n",
    "                            \"endDate\": \"$end_time\",\n",
    "                            \"unit\": \"second\"\n",
    "                        }\n",
    "                    },\n",
    "                    3600  # Convert seconds to hours\n",
    "                ]\n",
    "            }\n",
    "        }\n",
    "    },\n",
    "    {\n",
    "        \"$group\": {\n",
    "            \"_id\": \"$activity_year\", \n",
    "            \"total_hours\": {\"$sum\": \"$hours_diff\"}\n",
    "        }\n",
    "    },\n",
    "    {\n",
    "        \"$project\": {\n",
    "            \"total_hours\": {\"$round\": [\"$total_hours\", 0]}\n",
    "        }\n",
    "    },\n",
    "    {\n",
    "        \"$sort\": {\n",
    "            \"total_hours\": -1  # Sort by total_hours in descending order\n",
    "        }\n",
    "    }\n",
    "]\n",
    "\n",
    "results = db.activity.aggregate(pipeline)\n",
    "pprint(results.next())"
   ]
  },
  {
   "cell_type": "markdown",
   "metadata": {},
   "source": [
    "No, 2009 is the year with the most recorded hours."
   ]
  },
  {
   "cell_type": "markdown",
   "metadata": {},
   "source": [
    "#### 7. Find the total distance (in km) walked in 2008, by user with id=112."
   ]
  },
  {
   "cell_type": "code",
   "execution_count": 13,
   "metadata": {},
   "outputs": [
    {
     "name": "stdout",
     "output_type": "stream",
     "text": [
      "Total distance walked in 2008 by user 112: 115.47 km\n"
     ]
    }
   ],
   "source": [
    "pipeline = [\n",
    "    {\n",
    "      \"$project\": {\n",
    "          \"trackpoints\": 1,\n",
    "          \"activity_year\": {\"$year\": \"$start_time\"},\n",
    "          \"transportation_mode\": 1,\n",
    "          \"user_id\": 1\n",
    "      }\n",
    "    },\n",
    "    {\n",
    "      \"$match\": {\n",
    "          \"transportation_mode\": \"walk\",\n",
    "          \"activity_year\": 2008,\n",
    "          \"user_id\": \"112\",\n",
    "      }     \n",
    "    }\n",
    "]\n",
    "results = db.activity.aggregate(pipeline)\n",
    "#Store a list where each element is a list of all trackpoints for a unique activity\n",
    "activities = [doc[\"trackpoints\"]for doc in results]\n",
    "\n",
    "total_distance_km = 0\n",
    "for activity in activities:\n",
    "    trackpoints = db.trackpoint.aggregate([\n",
    "        {\n",
    "            \"$match\": {\n",
    "                \"_id\": {\"$in\": activity}\n",
    "            }\n",
    "        },\n",
    "        { # Sort the trackpoints as MongoDB cannot guarantee that they are returned in the order they were inserted.\n",
    "            \"$sort\": {\n",
    "                \"date_days\": 1\n",
    "            }            \n",
    "        },\n",
    "        {\n",
    "            \"$project\": {\n",
    "                \"lat\": 1,\n",
    "                \"lon\": 1,\n",
    "            }\n",
    "        }\n",
    "    ]).to_list()\n",
    "    \n",
    "    for i in range(1, len(trackpoints)):\n",
    "        prev_point = (trackpoints[i-1]['lat'], trackpoints[i-1]['lon'])\n",
    "        curr_point = (trackpoints[i]['lat'], trackpoints[i]['lon']) \n",
    "        distance = haversine(prev_point, curr_point, unit=Unit.KILOMETERS)\n",
    "        total_distance_km += distance\n",
    "\n",
    "print(f\"Total distance walked in 2008 by user 112: {total_distance_km:.2f} km\")"
   ]
  },
  {
   "cell_type": "markdown",
   "metadata": {},
   "source": [
    "#### 8. Find the top 20 users who have gained the most altitude meters."
   ]
  },
  {
   "cell_type": "code",
   "execution_count": 14,
   "metadata": {},
   "outputs": [
    {
     "name": "stdout",
     "output_type": "stream",
     "text": [
      "+---------+---------------------+\n",
      "| User ID | Total Altitude Gain |\n",
      "+---------+---------------------+\n",
      "|   128   |       2027587       |\n",
      "|   153   |       1618425       |\n",
      "|   004   |       966470        |\n",
      "|   003   |       669881        |\n",
      "|   163   |       613040        |\n",
      "|   085   |       609489        |\n",
      "|   144   |       575894        |\n",
      "|   041   |       558839        |\n",
      "|   030   |       486584        |\n",
      "|   062   |       465815        |\n",
      "|   039   |       408601        |\n",
      "|   084   |       372020        |\n",
      "|   167   |       344060        |\n",
      "|   000   |       338965        |\n",
      "|   002   |       333699        |\n",
      "|   025   |       305129        |\n",
      "|   140   |       254320        |\n",
      "|   126   |       245897        |\n",
      "|   017   |       178717        |\n",
      "|   022   |       171412        |\n",
      "+---------+---------------------+\n"
     ]
    }
   ],
   "source": [
    "# Retrieve user_id and trackpoints for each activity\n",
    "activities = db.activity.aggregate([\n",
    "    {\"$project\": {\"user_id\": 1, \"trackpoints\": 1}}\n",
    "])\n",
    "\n",
    "user_altitude_gain = {}\n",
    "\n",
    "for activity in activities:\n",
    "    user_id = activity[\"user_id\"]\n",
    "    trackpoint_ids = activity[\"trackpoints\"]\n",
    "\n",
    "    # Retrieve and filter trackpoints with altitude >= 0, sorted by date\n",
    "    trackpoints = list(db.trackpoint.find(\n",
    "        {\n",
    "            \"_id\": {\"$in\": trackpoint_ids},\n",
    "            \"altitude\": {\"$gte\": 0}  # Exclude negative and null altitudes\n",
    "        },\n",
    "        sort=[(\"date_days\", 1)]\n",
    "    ))\n",
    "\n",
    "    # Calculate altitude gain for each activity\n",
    "    altitude_gain = sum(\n",
    "        max(tp2[\"altitude\"] - tp1[\"altitude\"], 0)\n",
    "        for tp1, tp2 in zip(trackpoints[:-1], trackpoints[1:])\n",
    "    )\n",
    "\n",
    "    # Accumulate total altitude gain per user\n",
    "    user_altitude_gain[user_id] = user_altitude_gain.get(user_id, 0) + altitude_gain\n",
    "\n",
    "# Sort and display the top 20 users by altitude gain\n",
    "top_users = sorted(user_altitude_gain.items(), key=lambda x: x[1], reverse=True)[:20]\n",
    "table = [[user, gain] for user, gain in top_users]\n",
    "print(tabulate(table, headers=[\"User ID\", \"Total Altitude Gain\"], tablefmt=\"pretty\"))"
   ]
  },
  {
   "cell_type": "markdown",
   "metadata": {},
   "source": [
    "For this query we know from the task description that altitudes with value -777 are invalid. I choose to simply exclude all negative values, because Beijing is entirely situated above sea level."
   ]
  },
  {
   "cell_type": "markdown",
   "metadata": {},
   "source": [
    "#### 9. Find all users who have invalid activities, and the number of invalid activities per user"
   ]
  },
  {
   "cell_type": "code",
   "execution_count": 25,
   "metadata": {},
   "outputs": [
    {
     "name": "stdout",
     "output_type": "stream",
     "text": [
      "+---------+------------------------+\n",
      "| User ID | Invalid Activity Count |\n",
      "+---------+------------------------+\n",
      "|   128   |          720           |\n",
      "|   153   |          558           |\n",
      "|   025   |          263           |\n",
      "|   062   |          249           |\n",
      "|   163   |          233           |\n",
      "|   004   |          219           |\n",
      "|   041   |          201           |\n",
      "|   085   |          184           |\n",
      "|   003   |          179           |\n",
      "|   144   |          157           |\n",
      "|   039   |          147           |\n",
      "|   068   |          139           |\n",
      "|   167   |          134           |\n",
      "|   017   |          129           |\n",
      "|   014   |          118           |\n",
      "|   030   |          112           |\n",
      "|   126   |          105           |\n",
      "|   000   |          101           |\n",
      "|   092   |          101           |\n",
      "|   037   |          100           |\n",
      "|   084   |           99           |\n",
      "|   002   |           98           |\n",
      "|   104   |           97           |\n",
      "|   034   |           88           |\n",
      "|   140   |           86           |\n",
      "|   112   |           67           |\n",
      "|   091   |           63           |\n",
      "|   038   |           58           |\n",
      "|   115   |           58           |\n",
      "|   022   |           55           |\n",
      "|   042   |           55           |\n",
      "|   174   |           54           |\n",
      "|   142   |           52           |\n",
      "|   010   |           50           |\n",
      "|   015   |           46           |\n",
      "|   101   |           46           |\n",
      "|   001   |           45           |\n",
      "|   005   |           45           |\n",
      "|   052   |           44           |\n",
      "|   012   |           43           |\n",
      "|   089   |           40           |\n",
      "|   028   |           36           |\n",
      "|   051   |           36           |\n",
      "|   096   |           35           |\n",
      "|   036   |           34           |\n",
      "|   067   |           33           |\n",
      "|   011   |           32           |\n",
      "|   044   |           32           |\n",
      "|   009   |           31           |\n",
      "|   019   |           31           |\n",
      "|   134   |           31           |\n",
      "|   007   |           30           |\n",
      "|   147   |           30           |\n",
      "|   155   |           30           |\n",
      "|   013   |           29           |\n",
      "|   071   |           29           |\n",
      "|   179   |           28           |\n",
      "|   018   |           27           |\n",
      "|   024   |           27           |\n",
      "|   082   |           27           |\n",
      "|   065   |           26           |\n",
      "|   111   |           26           |\n",
      "|   029   |           25           |\n",
      "|   125   |           25           |\n",
      "|   103   |           24           |\n",
      "|   035   |           23           |\n",
      "|   119   |           22           |\n",
      "|   043   |           21           |\n",
      "|   016   |           20           |\n",
      "|   020   |           20           |\n",
      "|   074   |           19           |\n",
      "|   078   |           19           |\n",
      "|   168   |           19           |\n",
      "|   026   |           18           |\n",
      "|   073   |           18           |\n",
      "|   006   |           17           |\n",
      "|   040   |           17           |\n",
      "|   110   |           17           |\n",
      "|   008   |           16           |\n",
      "|   057   |           16           |\n",
      "|   081   |           16           |\n",
      "|   094   |           16           |\n",
      "|   150   |           16           |\n",
      "|   055   |           15           |\n",
      "|   083   |           15           |\n",
      "|   097   |           14           |\n",
      "|   154   |           14           |\n",
      "|   181   |           14           |\n",
      "|   046   |           13           |\n",
      "|   058   |           13           |\n",
      "|   102   |           13           |\n",
      "|   023   |           12           |\n",
      "|   032   |           12           |\n",
      "|   061   |           12           |\n",
      "|   139   |           12           |\n",
      "|   088   |           11           |\n",
      "|   099   |           11           |\n",
      "|   131   |           10           |\n",
      "|   138   |           10           |\n",
      "|   105   |           9            |\n",
      "|   157   |           9            |\n",
      "|   158   |           9            |\n",
      "|   162   |           9            |\n",
      "|   169   |           9            |\n",
      "|   172   |           9            |\n",
      "|   050   |           8            |\n",
      "|   063   |           8            |\n",
      "|   076   |           8            |\n",
      "|   130   |           8            |\n",
      "|   176   |           8            |\n",
      "|   021   |           7            |\n",
      "|   045   |           7            |\n",
      "|   053   |           7            |\n",
      "|   056   |           7            |\n",
      "|   064   |           7            |\n",
      "|   146   |           7            |\n",
      "|   161   |           7            |\n",
      "|   047   |           6            |\n",
      "|   066   |           6            |\n",
      "|   069   |           6            |\n",
      "|   075   |           6            |\n",
      "|   080   |           6            |\n",
      "|   122   |           6            |\n",
      "|   129   |           6            |\n",
      "|   136   |           6            |\n",
      "|   164   |           6            |\n",
      "|   059   |           5            |\n",
      "|   070   |           5            |\n",
      "|   086   |           5            |\n",
      "|   098   |           5            |\n",
      "|   108   |           5            |\n",
      "|   135   |           5            |\n",
      "|   145   |           5            |\n",
      "|   159   |           5            |\n",
      "|   173   |           5            |\n",
      "|   093   |           4            |\n",
      "|   095   |           4            |\n",
      "|   121   |           4            |\n",
      "|   124   |           4            |\n",
      "|   127   |           4            |\n",
      "|   133   |           4            |\n",
      "|   175   |           4            |\n",
      "|   031   |           3            |\n",
      "|   077   |           3            |\n",
      "|   087   |           3            |\n",
      "|   090   |           3            |\n",
      "|   100   |           3            |\n",
      "|   106   |           3            |\n",
      "|   109   |           3            |\n",
      "|   114   |           3            |\n",
      "|   117   |           3            |\n",
      "|   118   |           3            |\n",
      "|   123   |           3            |\n",
      "|   132   |           3            |\n",
      "|   171   |           3            |\n",
      "|   027   |           2            |\n",
      "|   033   |           2            |\n",
      "|   054   |           2            |\n",
      "|   072   |           2            |\n",
      "|   079   |           2            |\n",
      "|   152   |           2            |\n",
      "|   165   |           2            |\n",
      "|   166   |           2            |\n",
      "|   170   |           2            |\n",
      "|   180   |           2            |\n",
      "|   048   |           1            |\n",
      "|   060   |           1            |\n",
      "|   107   |           1            |\n",
      "|   113   |           1            |\n",
      "|   141   |           1            |\n",
      "|   151   |           1            |\n",
      "+---------+------------------------+\n"
     ]
    }
   ],
   "source": [
    "# Dictionary to track invalid activity counts per user\n",
    "user_invalid_activities = {}\n",
    "\n",
    "# Fetch each activity with associated trackpoints and user_id\n",
    "activities = db.activity.find({}, {\"user_id\": 1, \"trackpoints\": 1})\n",
    "\n",
    "for activity in activities:\n",
    "    user_id = activity[\"user_id\"]\n",
    "    trackpoint_ids = activity[\"trackpoints\"]\n",
    "\n",
    "    # Retrieve trackpoints sorted by time for each activity\n",
    "    trackpoints = list(db.trackpoint.find(\n",
    "        {\"_id\": {\"$in\": trackpoint_ids}},\n",
    "        {\"date_time\": 1}\n",
    "    ).sort(\"date_time\", 1))\n",
    "\n",
    "    # Check consecutive time gaps\n",
    "    invalid_activity = False\n",
    "    for i in range(1, len(trackpoints)):\n",
    "        tp1, tp2 = trackpoints[i - 1], trackpoints[i]\n",
    "        if tp2[\"date_time\"] - tp1[\"date_time\"] >= timedelta(minutes=5):\n",
    "            invalid_activity = True\n",
    "            break\n",
    "\n",
    "    # Increment invalid activity count if found\n",
    "    if invalid_activity:\n",
    "        if user_id in user_invalid_activities:\n",
    "            user_invalid_activities[user_id] += 1\n",
    "        else:\n",
    "            user_invalid_activities[user_id] = 1\n",
    "\n",
    "# Display results sorted by invalid activity count\n",
    "sorted_users = sorted(user_invalid_activities.items(), key=lambda x: x[1], reverse=True)\n",
    "rows = [{\"User ID\": user, \"Invalid Activity Count\": count} for user, count in sorted_users]\n",
    "print(tabulate(rows, headers=\"keys\", tablefmt=\"pretty\"))"
   ]
  },
  {
   "cell_type": "markdown",
   "metadata": {},
   "source": [
    "#### 10. Find the users who have tracked an activity in the Forbidden City of Beijing.  \n"
   ]
  },
  {
   "cell_type": "code",
   "execution_count": 20,
   "metadata": {},
   "outputs": [
    {
     "name": "stdout",
     "output_type": "stream",
     "text": [
      "+---------+\n",
      "| User ID |\n",
      "+---------+\n",
      "|   004   |\n",
      "|   131   |\n",
      "|   018   |\n",
      "|   019   |\n",
      "+---------+\n"
     ]
    }
   ],
   "source": [
    "pipeline = [\n",
    "    # Lookup trackpoints for each activity\n",
    "    {\"$lookup\": {\n",
    "        \"from\": \"trackpoint\",\n",
    "        \"localField\": \"trackpoints\",\n",
    "        \"foreignField\": \"_id\",\n",
    "        \"as\": \"trackpoint_data\"\n",
    "    }},\n",
    "    \n",
    "    # Unwind to work with each trackpoint individually\n",
    "    {\"$unwind\": \"$trackpoint_data\"},\n",
    "    \n",
    "    # Filter trackpoints within the Forbidden City coordinates\n",
    "    {\"$match\": {\n",
    "        \"trackpoint_data.lat\": {\"$gte\": 39.915, \"$lte\": 39.917},\n",
    "        \"trackpoint_data.lon\": {\"$gte\": 116.396, \"$lte\": 116.398}\n",
    "    }},\n",
    "    \n",
    "    # Group by user_id to get users who tracked activities in the location\n",
    "    {\"$group\": {\"_id\": \"$user_id\"}}\n",
    "]\n",
    "\n",
    "results = db.activity.aggregate(pipeline)\n",
    "\n",
    "# Display the results with tabulate\n",
    "rows = [{\"User ID\": result[\"_id\"]} for result in results]\n",
    "print(tabulate(rows, headers=\"keys\", tablefmt=\"pretty\"))"
   ]
  },
  {
   "cell_type": "markdown",
   "metadata": {},
   "source": [
    "I provided a tiny range around the given coordinates to simplify the query."
   ]
  },
  {
   "cell_type": "markdown",
   "metadata": {},
   "source": [
    "#### 11. Find all users who have registered transportation_mode and their most used transportation_mode. "
   ]
  },
  {
   "cell_type": "code",
   "execution_count": 4,
   "metadata": {},
   "outputs": [
    {
     "name": "stdout",
     "output_type": "stream",
     "text": [
      "+---------+----------------+-------------+\n",
      "| User ID | Most Used Mode | Usage Count |\n",
      "+---------+----------------+-------------+\n",
      "|   010   |      taxi      |      3      |\n",
      "|   020   |      bike      |     81      |\n",
      "|   021   |      walk      |      1      |\n",
      "|   052   |      bus       |      1      |\n",
      "|   056   |      bike      |     15      |\n",
      "|   058   |      car       |      2      |\n",
      "|   060   |      walk      |      1      |\n",
      "|   062   |      bus       |     173     |\n",
      "|   064   |      bike      |      1      |\n",
      "|   065   |      bike      |     10      |\n",
      "|   067   |      walk      |      1      |\n",
      "|   069   |      bike      |      1      |\n",
      "|   073   |      walk      |     52      |\n",
      "|   075   |      walk      |      1      |\n",
      "|   076   |      car       |      3      |\n",
      "|   078   |      walk      |     37      |\n",
      "|   080   |      bike      |      1      |\n",
      "|   081   |      bike      |      4      |\n",
      "|   082   |      walk      |      2      |\n",
      "|   084   |      walk      |      9      |\n",
      "|   085   |      walk      |     18      |\n",
      "|   086   |      car       |      2      |\n",
      "|   087   |      walk      |      5      |\n",
      "|   089   |      car       |      7      |\n",
      "|   091   |      bus       |      2      |\n",
      "|   092   |      bus       |      1      |\n",
      "|   097   |      bike      |      9      |\n",
      "|   098   |      taxi      |      1      |\n",
      "|   101   |      car       |      3      |\n",
      "|   102   |      bike      |      7      |\n",
      "|   107   |      walk      |      1      |\n",
      "|   108   |      walk      |      2      |\n",
      "|   111   |      taxi      |      3      |\n",
      "|   112   |      walk      |     69      |\n",
      "|   115   |      car       |     80      |\n",
      "|   117   |      walk      |      1      |\n",
      "|   125   |      bike      |      3      |\n",
      "|   126   |      bike      |     13      |\n",
      "|   128   |      car       |     312     |\n",
      "|   136   |      walk      |      3      |\n",
      "|   138   |      bike      |      2      |\n",
      "|   139   |      bike      |      4      |\n",
      "|   144   |      walk      |      2      |\n",
      "|   153   |      walk      |      5      |\n",
      "|   161   |      walk      |      1      |\n",
      "|   163   |      bike      |     26      |\n",
      "|   167   |      bike      |     31      |\n",
      "|   175   |      bus       |      1      |\n",
      "+---------+----------------+-------------+\n"
     ]
    }
   ],
   "source": [
    "pipeline = [\n",
    "    # Filter out activities without a transportation_mode\n",
    "    {\"$match\": {\"transportation_mode\": {\"$ne\": None}}},\n",
    "    \n",
    "    # Group by user_id and transportation_mode to count occurrences\n",
    "    {\"$group\": {\n",
    "        \"_id\": {\"user_id\": \"$user_id\", \"transportation_mode\": \"$transportation_mode\"},\n",
    "        \"mode_count\": {\"$sum\": 1}\n",
    "    }},\n",
    "    \n",
    "    # Group by user_id to find the most used transportation_mode for each user\n",
    "    # Sort by mode_count descending, then by transportation_mode alphabetically to break ties\n",
    "    {\"$sort\": {\"mode_count\": -1, \"_id.transportation_mode\": 1}},  \n",
    "    {\"$group\": {\n",
    "        \"_id\": \"$_id.user_id\",\n",
    "        \"most_used_mode\": {\"$first\": \"$_id.transportation_mode\"},\n",
    "        \"usage_count\": {\"$first\": \"$mode_count\"}\n",
    "    }},\n",
    "    \n",
    "    # Sort users by user_id for easy reading\n",
    "    {\"$sort\": {\"_id\": 1}}\n",
    "]\n",
    "\n",
    "results = db.activity.aggregate(pipeline)\n",
    "\n",
    "# Format the results for display\n",
    "rows = [{\"User ID\": result[\"_id\"], \"Most Used Mode\": result[\"most_used_mode\"], \"Usage Count\": result[\"usage_count\"]} for result in results]\n",
    "print(tabulate(rows, headers=\"keys\", tablefmt=\"pretty\"))"
   ]
  }
 ],
 "metadata": {
  "kernelspec": {
   "display_name": "myenv",
   "language": "python",
   "name": "python3"
  },
  "language_info": {
   "codemirror_mode": {
    "name": "ipython",
    "version": 3
   },
   "file_extension": ".py",
   "mimetype": "text/x-python",
   "name": "python",
   "nbconvert_exporter": "python",
   "pygments_lexer": "ipython3",
   "version": "3.11.5"
  }
 },
 "nbformat": 4,
 "nbformat_minor": 2
}
