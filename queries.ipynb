{
 "cells": [
  {
   "cell_type": "markdown",
   "metadata": {},
   "source": [
    "# RESULTS"
   ]
  },
  {
   "cell_type": "code",
   "execution_count": 1,
   "metadata": {},
   "outputs": [],
   "source": [
    "from pprint import pprint \n",
    "from DbConnector import DbConnector\n",
    "from haversine import haversine, Unit\n",
    "from tabulate import tabulate"
   ]
  },
  {
   "cell_type": "code",
   "execution_count": 2,
   "metadata": {},
   "outputs": [
    {
     "name": "stdout",
     "output_type": "stream",
     "text": [
      "You are connected to the database: geolife\n",
      "-----------------------------------------------\n",
      "\n"
     ]
    }
   ],
   "source": [
    "try:\n",
    "    connection = DbConnector()\n",
    "    client = connection.client\n",
    "    db = connection.db\n",
    "except Exception as e:\n",
    "    print(\"ERROR: Failed to connect to db:\", e)"
   ]
  },
  {
   "cell_type": "markdown",
   "metadata": {},
   "source": [
    "# PART 1"
   ]
  },
  {
   "cell_type": "markdown",
   "metadata": {},
   "source": [
    "#### Showing the 10 first rows of each table in the database, after data is inserted"
   ]
  },
  {
   "cell_type": "code",
   "execution_count": 3,
   "metadata": {},
   "outputs": [
    {
     "name": "stdout",
     "output_type": "stream",
     "text": [
      "{'_id': '000', 'has_labels': False}\n",
      "{'_id': '001', 'has_labels': False}\n",
      "{'_id': '002', 'has_labels': False}\n",
      "{'_id': '003', 'has_labels': False}\n",
      "{'_id': '004', 'has_labels': False}\n",
      "{'_id': '005', 'has_labels': False}\n",
      "{'_id': '006', 'has_labels': False}\n",
      "{'_id': '007', 'has_labels': False}\n",
      "{'_id': '008', 'has_labels': False}\n",
      "{'_id': '009', 'has_labels': False}\n"
     ]
    }
   ],
   "source": [
    "documents = db.user.find().limit(10)\n",
    "for doc in documents: \n",
    "    pprint(doc)"
   ]
  },
  {
   "cell_type": "code",
   "execution_count": 4,
   "metadata": {},
   "outputs": [
    {
     "name": "stdout",
     "output_type": "stream",
     "text": [
      "{'_id': ObjectId('6716ad138017c590a67cf6d9'),\n",
      " 'end_time': datetime.datetime(2008, 10, 23, 11, 11, 12),\n",
      " 'start_time': datetime.datetime(2008, 10, 23, 2, 53, 4),\n",
      " 'trackpoints': [ObjectId('6716ad138017c590a67cf34d'),\n",
      "                 ObjectId('6716ad138017c590a67cf34e'),\n",
      "                 ObjectId('6716ad138017c590a67cf34f'),\n",
      "                 ObjectId('6716ad138017c590a67cf350'),\n",
      "                 ObjectId('6716ad138017c590a67cf351')],\n",
      " 'transportation_mode': None,\n",
      " 'user_id': '000'}\n",
      "{'_id': ObjectId('6716ad138017c590a67cf7ce'),\n",
      " 'end_time': datetime.datetime(2008, 10, 24, 2, 47, 6),\n",
      " 'start_time': datetime.datetime(2008, 10, 24, 2, 9, 59),\n",
      " 'trackpoints': [ObjectId('6716ad138017c590a67cf6da'),\n",
      "                 ObjectId('6716ad138017c590a67cf6db'),\n",
      "                 ObjectId('6716ad138017c590a67cf6dc'),\n",
      "                 ObjectId('6716ad138017c590a67cf6dd'),\n",
      "                 ObjectId('6716ad138017c590a67cf6de')],\n",
      " 'transportation_mode': None,\n",
      " 'user_id': '000'}\n",
      "{'_id': ObjectId('6716ad138017c590a67cfab8'),\n",
      " 'end_time': datetime.datetime(2008, 10, 26, 15, 4, 7),\n",
      " 'start_time': datetime.datetime(2008, 10, 26, 13, 44, 7),\n",
      " 'trackpoints': [ObjectId('6716ad138017c590a67cf7cf'),\n",
      "                 ObjectId('6716ad138017c590a67cf7d0'),\n",
      "                 ObjectId('6716ad138017c590a67cf7d1'),\n",
      "                 ObjectId('6716ad138017c590a67cf7d2'),\n",
      "                 ObjectId('6716ad138017c590a67cf7d3')],\n",
      " 'transportation_mode': None,\n",
      " 'user_id': '000'}\n",
      "{'_id': ObjectId('6716ad138017c590a67cfaeb'),\n",
      " 'end_time': datetime.datetime(2008, 10, 27, 12, 5, 54),\n",
      " 'start_time': datetime.datetime(2008, 10, 27, 11, 54, 49),\n",
      " 'trackpoints': [ObjectId('6716ad138017c590a67cfab9'),\n",
      "                 ObjectId('6716ad138017c590a67cfaba'),\n",
      "                 ObjectId('6716ad138017c590a67cfabb'),\n",
      "                 ObjectId('6716ad138017c590a67cfabc'),\n",
      "                 ObjectId('6716ad138017c590a67cfabd')],\n",
      " 'transportation_mode': None,\n",
      " 'user_id': '000'}\n",
      "{'_id': ObjectId('6716ad138017c590a67d00b1'),\n",
      " 'end_time': datetime.datetime(2008, 10, 28, 5, 3, 42),\n",
      " 'start_time': datetime.datetime(2008, 10, 28, 0, 38, 26),\n",
      " 'trackpoints': [ObjectId('6716ad138017c590a67cfaec'),\n",
      "                 ObjectId('6716ad138017c590a67cfaed'),\n",
      "                 ObjectId('6716ad138017c590a67cfaee'),\n",
      "                 ObjectId('6716ad138017c590a67cfaef'),\n",
      "                 ObjectId('6716ad138017c590a67cfaf0')],\n",
      " 'transportation_mode': None,\n",
      " 'user_id': '000'}\n",
      "{'_id': ObjectId('6716ad138017c590a67d00c7'),\n",
      " 'end_time': datetime.datetime(2008, 10, 29, 9, 30, 28),\n",
      " 'start_time': datetime.datetime(2008, 10, 29, 9, 21, 38),\n",
      " 'trackpoints': [ObjectId('6716ad138017c590a67d00b2'),\n",
      "                 ObjectId('6716ad138017c590a67d00b3'),\n",
      "                 ObjectId('6716ad138017c590a67d00b4'),\n",
      "                 ObjectId('6716ad138017c590a67d00b5'),\n",
      "                 ObjectId('6716ad138017c590a67d00b6')],\n",
      " 'transportation_mode': None,\n",
      " 'user_id': '000'}\n",
      "{'_id': ObjectId('6716ad138017c590a67d017e'),\n",
      " 'end_time': datetime.datetime(2008, 10, 29, 9, 46, 43),\n",
      " 'start_time': datetime.datetime(2008, 10, 29, 9, 30, 38),\n",
      " 'trackpoints': [ObjectId('6716ad138017c590a67d00c8'),\n",
      "                 ObjectId('6716ad138017c590a67d00c9'),\n",
      "                 ObjectId('6716ad138017c590a67d00ca'),\n",
      "                 ObjectId('6716ad138017c590a67d00cb'),\n",
      "                 ObjectId('6716ad138017c590a67d00cc')],\n",
      " 'transportation_mode': None,\n",
      " 'user_id': '000'}\n",
      "{'_id': ObjectId('6716ad138017c590a67d0186'),\n",
      " 'end_time': datetime.datetime(2008, 11, 3, 10, 16, 1),\n",
      " 'start_time': datetime.datetime(2008, 11, 3, 10, 13, 36),\n",
      " 'trackpoints': [ObjectId('6716ad138017c590a67d017f'),\n",
      "                 ObjectId('6716ad138017c590a67d0180'),\n",
      "                 ObjectId('6716ad138017c590a67d0181'),\n",
      "                 ObjectId('6716ad138017c590a67d0182'),\n",
      "                 ObjectId('6716ad138017c590a67d0183')],\n",
      " 'transportation_mode': None,\n",
      " 'user_id': '000'}\n",
      "{'_id': ObjectId('6716ad138017c590a67d0a3e'),\n",
      " 'end_time': datetime.datetime(2008, 11, 4, 3, 31, 8),\n",
      " 'start_time': datetime.datetime(2008, 11, 3, 23, 21, 53),\n",
      " 'trackpoints': [ObjectId('6716ad138017c590a67d0187'),\n",
      "                 ObjectId('6716ad138017c590a67d0188'),\n",
      "                 ObjectId('6716ad138017c590a67d0189'),\n",
      "                 ObjectId('6716ad138017c590a67d018a'),\n",
      "                 ObjectId('6716ad138017c590a67d018b')],\n",
      " 'transportation_mode': None,\n",
      " 'user_id': '000'}\n",
      "{'_id': ObjectId('6716ad138017c590a67d0b4f'),\n",
      " 'end_time': datetime.datetime(2008, 11, 10, 3, 46, 12),\n",
      " 'start_time': datetime.datetime(2008, 11, 10, 1, 36, 37),\n",
      " 'trackpoints': [ObjectId('6716ad138017c590a67d0a3f'),\n",
      "                 ObjectId('6716ad138017c590a67d0a40'),\n",
      "                 ObjectId('6716ad138017c590a67d0a41'),\n",
      "                 ObjectId('6716ad138017c590a67d0a42'),\n",
      "                 ObjectId('6716ad138017c590a67d0a43')],\n",
      " 'transportation_mode': None,\n",
      " 'user_id': '000'}\n"
     ]
    }
   ],
   "source": [
    "documents = db.activity.find().limit(10)\n",
    "for doc in documents:\n",
    "    # Slice the trackpoints to only show the first 5 \n",
    "    if 'trackpoints' in doc:\n",
    "        doc['trackpoints'] = doc['trackpoints'][:5]\n",
    "    pprint(doc)"
   ]
  },
  {
   "cell_type": "code",
   "execution_count": 5,
   "metadata": {},
   "outputs": [
    {
     "name": "stdout",
     "output_type": "stream",
     "text": [
      "{'_id': ObjectId('6716ad138017c590a67cf34d'),\n",
      " 'altitude': 492,\n",
      " 'date_days': 39744.1201851852,\n",
      " 'date_time': datetime.datetime(2008, 10, 23, 2, 53, 4),\n",
      " 'lat': 39.984702,\n",
      " 'lon': 116.318417}\n",
      "{'_id': ObjectId('6716ad138017c590a67cf34e'),\n",
      " 'altitude': 492,\n",
      " 'date_days': 39744.1202546296,\n",
      " 'date_time': datetime.datetime(2008, 10, 23, 2, 53, 10),\n",
      " 'lat': 39.984683,\n",
      " 'lon': 116.31845}\n",
      "{'_id': ObjectId('6716ad138017c590a67cf34f'),\n",
      " 'altitude': 492,\n",
      " 'date_days': 39744.1203125,\n",
      " 'date_time': datetime.datetime(2008, 10, 23, 2, 53, 15),\n",
      " 'lat': 39.984686,\n",
      " 'lon': 116.318417}\n",
      "{'_id': ObjectId('6716ad138017c590a67cf350'),\n",
      " 'altitude': 492,\n",
      " 'date_days': 39744.1203703704,\n",
      " 'date_time': datetime.datetime(2008, 10, 23, 2, 53, 20),\n",
      " 'lat': 39.984688,\n",
      " 'lon': 116.318385}\n",
      "{'_id': ObjectId('6716ad138017c590a67cf351'),\n",
      " 'altitude': 492,\n",
      " 'date_days': 39744.1204282407,\n",
      " 'date_time': datetime.datetime(2008, 10, 23, 2, 53, 25),\n",
      " 'lat': 39.984655,\n",
      " 'lon': 116.318263}\n",
      "{'_id': ObjectId('6716ad138017c590a67cf352'),\n",
      " 'altitude': 493,\n",
      " 'date_days': 39744.1204861111,\n",
      " 'date_time': datetime.datetime(2008, 10, 23, 2, 53, 30),\n",
      " 'lat': 39.984611,\n",
      " 'lon': 116.318026}\n",
      "{'_id': ObjectId('6716ad138017c590a67cf353'),\n",
      " 'altitude': 493,\n",
      " 'date_days': 39744.1205439815,\n",
      " 'date_time': datetime.datetime(2008, 10, 23, 2, 53, 35),\n",
      " 'lat': 39.984608,\n",
      " 'lon': 116.317761}\n",
      "{'_id': ObjectId('6716ad138017c590a67cf354'),\n",
      " 'altitude': 496,\n",
      " 'date_days': 39744.1206018519,\n",
      " 'date_time': datetime.datetime(2008, 10, 23, 2, 53, 40),\n",
      " 'lat': 39.984563,\n",
      " 'lon': 116.317517}\n",
      "{'_id': ObjectId('6716ad138017c590a67cf355'),\n",
      " 'altitude': 500,\n",
      " 'date_days': 39744.1206597222,\n",
      " 'date_time': datetime.datetime(2008, 10, 23, 2, 53, 45),\n",
      " 'lat': 39.984539,\n",
      " 'lon': 116.317294}\n",
      "{'_id': ObjectId('6716ad138017c590a67cf356'),\n",
      " 'altitude': 505,\n",
      " 'date_days': 39744.1207175926,\n",
      " 'date_time': datetime.datetime(2008, 10, 23, 2, 53, 50),\n",
      " 'lat': 39.984606,\n",
      " 'lon': 116.317065}\n"
     ]
    }
   ],
   "source": [
    "documents = db.trackpoint.find().limit(10)\n",
    "for doc in documents:\n",
    "    pprint(doc)"
   ]
  },
  {
   "cell_type": "markdown",
   "metadata": {},
   "source": [
    "# PART 2"
   ]
  },
  {
   "cell_type": "markdown",
   "metadata": {},
   "source": [
    "#### 1. How many users, activities, and trackpoints are there in the dataset (after it is inserted into the database)."
   ]
  },
  {
   "cell_type": "code",
   "execution_count": 6,
   "metadata": {},
   "outputs": [
    {
     "name": "stdout",
     "output_type": "stream",
     "text": [
      "+------------+---------+\n",
      "| Collection |  Count  |\n",
      "+------------+---------+\n",
      "|    User    |   182   |\n",
      "|  Activity  |  16050  |\n",
      "| Trackpoint | 9686758 |\n",
      "+------------+---------+\n"
     ]
    }
   ],
   "source": [
    "user_count = db.user.count_documents({})\n",
    "activity_count = db.activity.count_documents({})\n",
    "tp_count = db.trackpoint.count_documents({})\n",
    "rows = [\n",
    "    [\"User\", user_count],\n",
    "    [\"Activity\", activity_count],\n",
    "    [\"Trackpoint\", tp_count]\n",
    "]\n",
    "print(tabulate(rows, headers=[\"Collection\", \"Count\"], tablefmt=\"pretty\"))\n"
   ]
  },
  {
   "cell_type": "markdown",
   "metadata": {},
   "source": [
    "#### 2. Find the average number of activities per user."
   ]
  },
  {
   "cell_type": "code",
   "execution_count": 7,
   "metadata": {},
   "outputs": [
    {
     "name": "stdout",
     "output_type": "stream",
     "text": [
      "{'_id': None, 'average_activities_per_user': 92.77456647398844}\n"
     ]
    }
   ],
   "source": [
    "pipeline = [\n",
    "    {\n",
    "        \"$group\": {\n",
    "            \"_id\": \"$user_id\",\n",
    "            \"activity_count\": {\"$sum\": 1}  # Count activities per user\n",
    "        }\n",
    "    },\n",
    "    {\n",
    "        \"$group\": {\n",
    "            \"_id\": None,\n",
    "            \"average_activities_per_user\": {\"$avg\": \"$activity_count\"}\n",
    "        }\n",
    "    }\n",
    "]\n",
    "result = db.activity.aggregate(pipeline)\n",
    "for doc in result:\n",
    "    pprint(doc)"
   ]
  },
  {
   "cell_type": "markdown",
   "metadata": {},
   "source": [
    "#### 3. Find the top 20 users with the highest number of activities."
   ]
  },
  {
   "cell_type": "code",
   "execution_count": 8,
   "metadata": {},
   "outputs": [
    {
     "name": "stdout",
     "output_type": "stream",
     "text": [
      "{'_id': '128', 'activity_count': 2102}\n",
      "{'_id': '153', 'activity_count': 1794}\n",
      "{'_id': '025', 'activity_count': 715}\n",
      "{'_id': '163', 'activity_count': 704}\n",
      "{'_id': '062', 'activity_count': 691}\n",
      "{'_id': '144', 'activity_count': 563}\n",
      "{'_id': '041', 'activity_count': 399}\n",
      "{'_id': '085', 'activity_count': 364}\n",
      "{'_id': '004', 'activity_count': 346}\n",
      "{'_id': '140', 'activity_count': 345}\n",
      "{'_id': '167', 'activity_count': 320}\n",
      "{'_id': '068', 'activity_count': 280}\n",
      "{'_id': '017', 'activity_count': 265}\n",
      "{'_id': '003', 'activity_count': 261}\n",
      "{'_id': '014', 'activity_count': 236}\n",
      "{'_id': '126', 'activity_count': 215}\n",
      "{'_id': '030', 'activity_count': 210}\n",
      "{'_id': '112', 'activity_count': 208}\n",
      "{'_id': '011', 'activity_count': 201}\n",
      "{'_id': '039', 'activity_count': 198}\n"
     ]
    }
   ],
   "source": [
    "pipeline = [\n",
    "    {\n",
    "        \"$group\": {\n",
    "            \"_id\": \"$user_id\",\n",
    "            \"activity_count\": {\"$sum\": 1}\n",
    "        }\n",
    "    },\n",
    "    {\n",
    "        \"$sort\": {\n",
    "            'activity_count': -1\n",
    "        }\n",
    "    },\n",
    "    {\n",
    "        \"$limit\": 20\n",
    "    }\n",
    "]\n",
    "result = db.activity.aggregate(pipeline)\n",
    "for doc in result:\n",
    "    pprint(doc)"
   ]
  },
  {
   "cell_type": "markdown",
   "metadata": {},
   "source": [
    "#### 4. Find all users who have taken a taxi."
   ]
  },
  {
   "cell_type": "code",
   "execution_count": 9,
   "metadata": {},
   "outputs": [
    {
     "name": "stdout",
     "output_type": "stream",
     "text": [
      "{'_id': '010'}\n",
      "{'_id': '058'}\n",
      "{'_id': '062'}\n",
      "{'_id': '078'}\n",
      "{'_id': '080'}\n",
      "{'_id': '085'}\n",
      "{'_id': '098'}\n",
      "{'_id': '111'}\n",
      "{'_id': '128'}\n",
      "{'_id': '163'}\n"
     ]
    }
   ],
   "source": [
    "pipeline = [\n",
    "    {\n",
    "        \"$match\": {\n",
    "            \"transportation_mode\": \"taxi\"\n",
    "        }\n",
    "    },\n",
    "    {\n",
    "        \"$group\": {\n",
    "            \"_id\": \"$user_id\"\n",
    "        }\n",
    "    },\n",
    "    {\n",
    "        \"$sort\": {\n",
    "            \"_id\": 1\n",
    "        }\n",
    "    }\n",
    "]\n",
    "result = db.activity.aggregate(pipeline)\n",
    "for doc in result:\n",
    "    pprint(doc)\n"
   ]
  },
  {
   "cell_type": "markdown",
   "metadata": {},
   "source": [
    "#### 5. Find all types of transportation modes and count how many activities that are tagged with these transportation mode labels. Do not count the rows where the mode is null."
   ]
  },
  {
   "cell_type": "code",
   "execution_count": 10,
   "metadata": {},
   "outputs": [
    {
     "name": "stdout",
     "output_type": "stream",
     "text": [
      "{'_id': 'walk', 'activity_count': 480}\n",
      "{'_id': 'car', 'activity_count': 419}\n",
      "{'_id': 'bike', 'activity_count': 263}\n",
      "{'_id': 'bus', 'activity_count': 199}\n",
      "{'_id': 'subway', 'activity_count': 133}\n",
      "{'_id': 'taxi', 'activity_count': 37}\n",
      "{'_id': 'airplane', 'activity_count': 3}\n",
      "{'_id': 'train', 'activity_count': 2}\n",
      "{'_id': 'boat', 'activity_count': 1}\n",
      "{'_id': 'run', 'activity_count': 1}\n"
     ]
    }
   ],
   "source": [
    "pipeline = [\n",
    "    {\n",
    "        \"$match\": {\n",
    "            \"transportation_mode\": {\"$ne\": None}\n",
    "        }\n",
    "    },\n",
    "    {\n",
    "        \"$group\": {\n",
    "            \"_id\": \"$transportation_mode\",\n",
    "            \"activity_count\": {\"$sum\": 1}\n",
    "        }\n",
    "    },\n",
    "    {\n",
    "        \"$sort\": {\n",
    "            \"activity_count\": -1\n",
    "        }\n",
    "    }\n",
    "]\n",
    "results = db.activity.aggregate(pipeline)\n",
    "for doc in results:\n",
    "    pprint(doc)"
   ]
  },
  {
   "cell_type": "markdown",
   "metadata": {},
   "source": [
    "#### 6. a) Find the year with the most activities."
   ]
  },
  {
   "cell_type": "code",
   "execution_count": 11,
   "metadata": {},
   "outputs": [
    {
     "name": "stdout",
     "output_type": "stream",
     "text": [
      "{'_id': 2008, 'activity_count': 5895}\n"
     ]
    }
   ],
   "source": [
    "pipeline = [\n",
    "    {\n",
    "        \"$project\": {\n",
    "            \"activity_year\": {\"$year\": \"$start_time\"}\n",
    "        }\n",
    "    },\n",
    "    {\n",
    "        \"$group\": {\n",
    "            \"_id\": \"$activity_year\",\n",
    "            \"activity_count\": {\"$sum\": 1}\n",
    "        }\n",
    "    },\n",
    "    {\n",
    "        \"$sort\": {\n",
    "            \"activity_count\": -1\n",
    "        }\n",
    "    }\n",
    "]\n",
    "results = db.activity.aggregate(pipeline)\n",
    "pprint(results.next())"
   ]
  },
  {
   "cell_type": "markdown",
   "metadata": {},
   "source": [
    "#### 6. b) Is this also the year with most recorded hours? "
   ]
  },
  {
   "cell_type": "code",
   "execution_count": 12,
   "metadata": {},
   "outputs": [
    {
     "name": "stdout",
     "output_type": "stream",
     "text": [
      "{'_id': 2009, 'total_hours': 11616.0}\n"
     ]
    }
   ],
   "source": [
    "pipeline = [\n",
    "    {\n",
    "        \"$project\": {\n",
    "            \"activity_year\": {\"$year\": \"$start_time\"},\n",
    "            \"hours_diff\": {\n",
    "                \"$divide\": [{\"$dateDiff\": {\n",
    "                            \"startDate\": \"$start_time\",\n",
    "                            \"endDate\": \"$end_time\",\n",
    "                            \"unit\": \"second\"\n",
    "                        }\n",
    "                    },\n",
    "                    3600  # Convert seconds to hours\n",
    "                ]\n",
    "            }\n",
    "        }\n",
    "    },\n",
    "    {\n",
    "        \"$group\": {\n",
    "            \"_id\": \"$activity_year\", \n",
    "            \"total_hours\": {\"$sum\": \"$hours_diff\"}\n",
    "        }\n",
    "    },\n",
    "    {\n",
    "        \"$project\": {\n",
    "            \"total_hours\": {\"$round\": [\"$total_hours\", 0]}\n",
    "        }\n",
    "    },\n",
    "    {\n",
    "        \"$sort\": {\n",
    "            \"total_hours\": -1  # Sort by total_hours in descending order\n",
    "        }\n",
    "    }\n",
    "]\n",
    "\n",
    "results = db.activity.aggregate(pipeline)\n",
    "pprint(results.next())"
   ]
  },
  {
   "cell_type": "markdown",
   "metadata": {},
   "source": [
    "No, 2009 is the year with the most activities."
   ]
  },
  {
   "cell_type": "markdown",
   "metadata": {},
   "source": [
    "#### 7. Find the total distance (in km) walked in 2008, by user with id=112."
   ]
  },
  {
   "cell_type": "code",
   "execution_count": 15,
   "metadata": {},
   "outputs": [
    {
     "name": "stdout",
     "output_type": "stream",
     "text": [
      "Total distance walked in 2008 by user 112: 115.47 km\n"
     ]
    }
   ],
   "source": [
    "pipeline = [\n",
    "    {\n",
    "      \"$project\": {\n",
    "          \"trackpoints\": 1,\n",
    "          \"activity_year\": {\"$year\": \"$start_time\"},\n",
    "          \"transportation_mode\": 1,\n",
    "          \"user_id\": 1\n",
    "      }\n",
    "    },\n",
    "    {\n",
    "      \"$match\": {\n",
    "          \"transportation_mode\": \"walk\",\n",
    "          \"activity_year\": 2008,\n",
    "          \"user_id\": \"112\",\n",
    "      }     \n",
    "    }\n",
    "]\n",
    "results = db.activity.aggregate(pipeline)\n",
    "#Store a list where each element is a list of all trackpoints for a unique activity\n",
    "activities = [doc[\"trackpoints\"]for doc in results]\n",
    "\n",
    "total_distance_km = 0\n",
    "for activity in activities:\n",
    "    trackpoints = db.trackpoint.aggregate([\n",
    "        {\n",
    "            \"$match\": {\n",
    "                \"_id\": {\"$in\": activity}\n",
    "            }\n",
    "        },\n",
    "        { # Sort the trackpoints as MongoDB cannot guarantee that they are returned in the order they were inserted.\n",
    "            \"$sort\": {\n",
    "                \"date_days\": 1\n",
    "            }            \n",
    "        },\n",
    "        {\n",
    "            \"$project\": {\n",
    "                \"lat\": 1,\n",
    "                \"lon\": 1,\n",
    "            }\n",
    "        }\n",
    "    ]).to_list()\n",
    "    \n",
    "    for i in range(1, len(trackpoints)):\n",
    "        prev_point = (trackpoints[i-1]['lat'], trackpoints[i-1]['lon'])\n",
    "        curr_point = (trackpoints[i]['lat'], trackpoints[i]['lon']) \n",
    "        distance = haversine(prev_point, curr_point, unit=Unit.KILOMETERS)\n",
    "        total_distance_km += distance\n",
    "\n",
    "print(f\"Total distance walked in 2008 by user 112: {total_distance_km:.2f} km\")"
   ]
  },
  {
   "cell_type": "code",
   "execution_count": null,
   "metadata": {},
   "outputs": [],
   "source": []
  },
  {
   "cell_type": "markdown",
   "metadata": {},
   "source": [
    "#### 8. Find the top 20 users who have gained the most altitude meters."
   ]
  },
  {
   "cell_type": "code",
   "execution_count": 14,
   "metadata": {},
   "outputs": [
    {
     "ename": "NameError",
     "evalue": "name 'cursor' is not defined",
     "output_type": "error",
     "traceback": [
      "\u001b[1;31m---------------------------------------------------------------------------\u001b[0m",
      "\u001b[1;31mNameError\u001b[0m                                 Traceback (most recent call last)",
      "Cell \u001b[1;32mIn[14], line 2\u001b[0m\n\u001b[0;32m      1\u001b[0m \u001b[38;5;66;03m# TODO: since we know Beijing is all above sea level, just remove negative values\u001b[39;00m\n\u001b[1;32m----> 2\u001b[0m \u001b[43mcursor\u001b[49m\u001b[38;5;241m.\u001b[39mexecute(\u001b[38;5;124m\"\"\"\u001b[39m\n\u001b[0;32m      3\u001b[0m \u001b[38;5;124mSELECT\u001b[39m\n\u001b[0;32m      4\u001b[0m \u001b[38;5;124m    a.user_id AS user_id,\u001b[39m\n\u001b[0;32m      5\u001b[0m \u001b[38;5;124m    SUM(CASE WHEN tp2.altitude > tp1.altitude THEN tp2.altitude - tp1.altitude ELSE 0 END) \u001b[39m\n\u001b[0;32m      6\u001b[0m \u001b[38;5;124m    AS total_elevation_gain\u001b[39m\n\u001b[0;32m      7\u001b[0m \u001b[38;5;124mFROM Activity AS a \u001b[39m\n\u001b[0;32m      8\u001b[0m \u001b[38;5;124mJOIN TrackPoint AS tp1 ON a.id = tp1.activity_id\u001b[39m\n\u001b[0;32m      9\u001b[0m \u001b[38;5;124mJOIN TrackPoint AS tp2 ON a.id = tp2.activity_id AND tp2.id = tp1.id + 1\u001b[39m\n\u001b[0;32m     10\u001b[0m \u001b[38;5;124mWHERE tp1.altitude IS NOT NULL AND tp2.altitude IS NOT NULL \u001b[39m\n\u001b[0;32m     11\u001b[0m \u001b[38;5;124m    AND tp1.altitude != -777 AND tp2.altitude != -777\u001b[39m\n\u001b[0;32m     12\u001b[0m \u001b[38;5;124mGROUP BY user_id\u001b[39m\n\u001b[0;32m     13\u001b[0m \u001b[38;5;124mORDER BY total_elevation_gain DESC\u001b[39m\n\u001b[0;32m     14\u001b[0m \u001b[38;5;124mLIMIT 20\u001b[39m\n\u001b[0;32m     15\u001b[0m \u001b[38;5;124m\"\"\"\u001b[39m)\n\u001b[0;32m     17\u001b[0m rows \u001b[38;5;241m=\u001b[39m cursor\u001b[38;5;241m.\u001b[39mfetchall()\n\u001b[0;32m     18\u001b[0m \u001b[38;5;28mprint\u001b[39m(tabulate(rows, headers\u001b[38;5;241m=\u001b[39m[\u001b[38;5;124m'\u001b[39m\u001b[38;5;124mUser ID\u001b[39m\u001b[38;5;124m'\u001b[39m, \u001b[38;5;124m'\u001b[39m\u001b[38;5;124mTotal Elevation Gain (feet)\u001b[39m\u001b[38;5;124m'\u001b[39m], tablefmt\u001b[38;5;241m=\u001b[39m\u001b[38;5;124m'\u001b[39m\u001b[38;5;124mpretty\u001b[39m\u001b[38;5;124m'\u001b[39m))\n",
      "\u001b[1;31mNameError\u001b[0m: name 'cursor' is not defined"
     ]
    }
   ],
   "source": [
    "# TODO: since we know Beijing is all above sea level, just remove negative values\n",
    "cursor.execute(\"\"\"\n",
    "SELECT\n",
    "    a.user_id AS user_id,\n",
    "    SUM(CASE WHEN tp2.altitude > tp1.altitude THEN tp2.altitude - tp1.altitude ELSE 0 END) \n",
    "    AS total_elevation_gain\n",
    "FROM Activity AS a \n",
    "JOIN TrackPoint AS tp1 ON a.id = tp1.activity_id\n",
    "JOIN TrackPoint AS tp2 ON a.id = tp2.activity_id AND tp2.id = tp1.id + 1\n",
    "WHERE tp1.altitude IS NOT NULL AND tp2.altitude IS NOT NULL \n",
    "    AND tp1.altitude != -777 AND tp2.altitude != -777\n",
    "GROUP BY user_id\n",
    "ORDER BY total_elevation_gain DESC\n",
    "LIMIT 20\n",
    "\"\"\")\n",
    "\n",
    "rows = cursor.fetchall()\n",
    "print(tabulate(rows, headers=['User ID', 'Total Elevation Gain (feet)'], tablefmt='pretty'))\n",
    "print(\"\"\"\\n I only remove altitude values which we KNOW are invalid, \n",
    "      ie. they are -777 as specified it the assignment or NULL.\"\"\")"
   ]
  },
  {
   "cell_type": "markdown",
   "metadata": {},
   "source": [
    "#### 9. Find all users who have invalid activities, and the number of invalid activities per user"
   ]
  },
  {
   "cell_type": "code",
   "execution_count": null,
   "metadata": {},
   "outputs": [],
   "source": [
    "cursor.execute(\"\"\"\n",
    "    WITH InvalidActivities AS (\n",
    "        SELECT\n",
    "            tp1.activity_id\n",
    "        FROM\n",
    "            TrackPoint tp1\n",
    "        JOIN\n",
    "            TrackPoint tp2 ON tp1.activity_id = tp2.activity_id\n",
    "                        AND tp2.id = tp1.id + 1\n",
    "        WHERE\n",
    "            TIMESTAMPDIFF(MINUTE, tp1.date_time, tp2.date_time) >= 5\n",
    "        GROUP BY\n",
    "            tp1.activity_id\n",
    "    )\n",
    "    SELECT  \n",
    "        user_id,\n",
    "        COUNT(activity_id) AS invalid_activities_count\n",
    "    FROM\n",
    "        InvalidActivities as ia\n",
    "    JOIN Activity as a ON a.id = ia.activity_id\n",
    "    GROUP BY\n",
    "        user_id\n",
    "\"\"\")\n",
    "rows = cursor.fetchall()\n",
    "print(tabulate(rows, headers=['User ID', 'Invalid Activity Count'], tablefmt='pretty'))"
   ]
  },
  {
   "cell_type": "markdown",
   "metadata": {},
   "source": [
    "#### 10. Find the users who have tracked an activity in the Forbidden City of Beijing.  \n"
   ]
  },
  {
   "cell_type": "code",
   "execution_count": null,
   "metadata": {},
   "outputs": [],
   "source": [
    "cursor.execute(\"\"\"\n",
    "    SELECT user_id\n",
    "    FROM Activity a\n",
    "    JOIN TrackPoint tp ON a.id = tp.activity_id\n",
    "    WHERE tp.lat BETWEEN 39.915 AND 39.917\n",
    "      AND tp.lon BETWEEN 116.396 AND 116.398\n",
    "    GROUP BY user_id\n",
    "\"\"\")\n",
    "rows = cursor.fetchall()\n",
    "print(tabulate(rows, headers=['User ID'], tablefmt='pretty'))\n",
    "print(\"\\n I provided a tiny range around the given coordinates to simplify the query.\")"
   ]
  },
  {
   "cell_type": "markdown",
   "metadata": {},
   "source": [
    "#### 11. Find all users who have registered transportation_mode and their most used transportation_mode. "
   ]
  },
  {
   "cell_type": "code",
   "execution_count": null,
   "metadata": {},
   "outputs": [],
   "source": [
    "\n",
    "cursor.execute(\"\"\"\n",
    "    SELECT user_id, transportation_mode \n",
    "    FROM\n",
    "        (SELECT user_id, transportation_mode, \n",
    "        RANK() OVER(PARTITION BY user_id ORDER BY transportation_mode ASC) as lexrnk \n",
    "        FROM\n",
    "            (SELECT user_id, transportation_mode, COUNT(*) AS activity_count,\n",
    "            RANK() OVER(PARTITION BY user_id ORDER BY COUNT(*) DESC) as rnk\n",
    "            FROM Activity\n",
    "            WHERE transportation_mode IS NOT NULL\n",
    "            GROUP BY user_id, transportation_mode) AS Ranked\n",
    "        WHERE rnk = 1\n",
    "        ) AS LexRanked\n",
    "    WHERE lexrnk = 1\n",
    "    ORDER BY user_id\n",
    "    \"\"\")\n",
    "rows = cursor.fetchall()\n",
    "print(tabulate(rows, headers=['User ID',' Most Used Transportation Mode'], tablefmt='pretty'))\n",
    "print(\"\"\"\\n The innermost subquery finds the user's most used transportation mode(s). \n",
    "      The second subquery handles tie breaks alphabetically.\"\"\")"
   ]
  }
 ],
 "metadata": {
  "kernelspec": {
   "display_name": "myenv",
   "language": "python",
   "name": "python3"
  },
  "language_info": {
   "codemirror_mode": {
    "name": "ipython",
    "version": 3
   },
   "file_extension": ".py",
   "mimetype": "text/x-python",
   "name": "python",
   "nbconvert_exporter": "python",
   "pygments_lexer": "ipython3",
   "version": "3.11.5"
  }
 },
 "nbformat": 4,
 "nbformat_minor": 2
}
