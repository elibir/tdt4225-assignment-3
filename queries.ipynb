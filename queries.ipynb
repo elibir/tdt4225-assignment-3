{
 "cells": [
  {
   "cell_type": "markdown",
   "metadata": {},
   "source": [
    "# RESULTS"
   ]
  },
  {
   "cell_type": "code",
   "execution_count": 44,
   "metadata": {},
   "outputs": [],
   "source": [
    "from pprint import pprint \n",
    "from DbConnector import DbConnector\n",
    "from haversine import haversine, Unit\n",
    "from tabulate import tabulate"
   ]
  },
  {
   "cell_type": "code",
   "execution_count": 45,
   "metadata": {},
   "outputs": [
    {
     "name": "stdout",
     "output_type": "stream",
     "text": [
      "You are connected to the database: geolife\n",
      "-----------------------------------------------\n",
      "\n"
     ]
    }
   ],
   "source": [
    "try:\n",
    "    connection = DbConnector()\n",
    "    client = connection.client\n",
    "    db = connection.db\n",
    "except Exception as e:\n",
    "    print(\"ERROR: Failed to connect to db:\", e)"
   ]
  },
  {
   "cell_type": "markdown",
   "metadata": {},
   "source": [
    "# PART 1"
   ]
  },
  {
   "cell_type": "markdown",
   "metadata": {},
   "source": [
    "#### Showing the 10 first rows of each table in the database, after data is inserted"
   ]
  },
  {
   "cell_type": "code",
   "execution_count": 46,
   "metadata": {},
   "outputs": [
    {
     "name": "stdout",
     "output_type": "stream",
     "text": [
      "{'_id': '000', 'has_labels': False}\n",
      "{'_id': '001', 'has_labels': False}\n",
      "{'_id': '002', 'has_labels': False}\n",
      "{'_id': '003', 'has_labels': False}\n",
      "{'_id': '004', 'has_labels': False}\n",
      "{'_id': '005', 'has_labels': False}\n",
      "{'_id': '006', 'has_labels': False}\n",
      "{'_id': '007', 'has_labels': False}\n",
      "{'_id': '008', 'has_labels': False}\n",
      "{'_id': '009', 'has_labels': False}\n"
     ]
    }
   ],
   "source": [
    "documents = db.user.find().limit(10)\n",
    "for doc in documents: \n",
    "    pprint(doc)"
   ]
  },
  {
   "cell_type": "code",
   "execution_count": 47,
   "metadata": {},
   "outputs": [
    {
     "name": "stdout",
     "output_type": "stream",
     "text": [
      "{'_id': ObjectId('671566f2cbbb30e475822a64'),\n",
      " 'end_time': datetime.datetime(2008, 10, 23, 11, 11, 12),\n",
      " 'start_time': datetime.datetime(2008, 10, 23, 2, 53, 4),\n",
      " 'trackpoints': [ObjectId('671566f2cbbb30e4758226d8'),\n",
      "                 ObjectId('671566f2cbbb30e4758226d9'),\n",
      "                 ObjectId('671566f2cbbb30e4758226da'),\n",
      "                 ObjectId('671566f2cbbb30e4758226db'),\n",
      "                 ObjectId('671566f2cbbb30e4758226dc')],\n",
      " 'transportation_mode': None,\n",
      " 'user_id': '000'}\n",
      "{'_id': ObjectId('671566f2cbbb30e475822b59'),\n",
      " 'end_time': datetime.datetime(2008, 10, 24, 2, 47, 6),\n",
      " 'start_time': datetime.datetime(2008, 10, 24, 2, 9, 59),\n",
      " 'trackpoints': [ObjectId('671566f2cbbb30e475822a65'),\n",
      "                 ObjectId('671566f2cbbb30e475822a66'),\n",
      "                 ObjectId('671566f2cbbb30e475822a67'),\n",
      "                 ObjectId('671566f2cbbb30e475822a68'),\n",
      "                 ObjectId('671566f2cbbb30e475822a69')],\n",
      " 'transportation_mode': None,\n",
      " 'user_id': '000'}\n",
      "{'_id': ObjectId('671566f2cbbb30e475822e43'),\n",
      " 'end_time': datetime.datetime(2008, 10, 26, 15, 4, 7),\n",
      " 'start_time': datetime.datetime(2008, 10, 26, 13, 44, 7),\n",
      " 'trackpoints': [ObjectId('671566f2cbbb30e475822b5a'),\n",
      "                 ObjectId('671566f2cbbb30e475822b5b'),\n",
      "                 ObjectId('671566f2cbbb30e475822b5c'),\n",
      "                 ObjectId('671566f2cbbb30e475822b5d'),\n",
      "                 ObjectId('671566f2cbbb30e475822b5e')],\n",
      " 'transportation_mode': None,\n",
      " 'user_id': '000'}\n",
      "{'_id': ObjectId('671566f2cbbb30e475822e76'),\n",
      " 'end_time': datetime.datetime(2008, 10, 27, 12, 5, 54),\n",
      " 'start_time': datetime.datetime(2008, 10, 27, 11, 54, 49),\n",
      " 'trackpoints': [ObjectId('671566f2cbbb30e475822e44'),\n",
      "                 ObjectId('671566f2cbbb30e475822e45'),\n",
      "                 ObjectId('671566f2cbbb30e475822e46'),\n",
      "                 ObjectId('671566f2cbbb30e475822e47'),\n",
      "                 ObjectId('671566f2cbbb30e475822e48')],\n",
      " 'transportation_mode': None,\n",
      " 'user_id': '000'}\n",
      "{'_id': ObjectId('671566f2cbbb30e47582343c'),\n",
      " 'end_time': datetime.datetime(2008, 10, 28, 5, 3, 42),\n",
      " 'start_time': datetime.datetime(2008, 10, 28, 0, 38, 26),\n",
      " 'trackpoints': [ObjectId('671566f2cbbb30e475822e77'),\n",
      "                 ObjectId('671566f2cbbb30e475822e78'),\n",
      "                 ObjectId('671566f2cbbb30e475822e79'),\n",
      "                 ObjectId('671566f2cbbb30e475822e7a'),\n",
      "                 ObjectId('671566f2cbbb30e475822e7b')],\n",
      " 'transportation_mode': None,\n",
      " 'user_id': '000'}\n",
      "{'_id': ObjectId('671566f2cbbb30e475823452'),\n",
      " 'end_time': datetime.datetime(2008, 10, 29, 9, 30, 28),\n",
      " 'start_time': datetime.datetime(2008, 10, 29, 9, 21, 38),\n",
      " 'trackpoints': [ObjectId('671566f2cbbb30e47582343d'),\n",
      "                 ObjectId('671566f2cbbb30e47582343e'),\n",
      "                 ObjectId('671566f2cbbb30e47582343f'),\n",
      "                 ObjectId('671566f2cbbb30e475823440'),\n",
      "                 ObjectId('671566f2cbbb30e475823441')],\n",
      " 'transportation_mode': None,\n",
      " 'user_id': '000'}\n",
      "{'_id': ObjectId('671566f2cbbb30e475823509'),\n",
      " 'end_time': datetime.datetime(2008, 10, 29, 9, 46, 43),\n",
      " 'start_time': datetime.datetime(2008, 10, 29, 9, 30, 38),\n",
      " 'trackpoints': [ObjectId('671566f2cbbb30e475823453'),\n",
      "                 ObjectId('671566f2cbbb30e475823454'),\n",
      "                 ObjectId('671566f2cbbb30e475823455'),\n",
      "                 ObjectId('671566f2cbbb30e475823456'),\n",
      "                 ObjectId('671566f2cbbb30e475823457')],\n",
      " 'transportation_mode': None,\n",
      " 'user_id': '000'}\n",
      "{'_id': ObjectId('671566f2cbbb30e475823511'),\n",
      " 'end_time': datetime.datetime(2008, 11, 3, 10, 16, 1),\n",
      " 'start_time': datetime.datetime(2008, 11, 3, 10, 13, 36),\n",
      " 'trackpoints': [ObjectId('671566f2cbbb30e47582350a'),\n",
      "                 ObjectId('671566f2cbbb30e47582350b'),\n",
      "                 ObjectId('671566f2cbbb30e47582350c'),\n",
      "                 ObjectId('671566f2cbbb30e47582350d'),\n",
      "                 ObjectId('671566f2cbbb30e47582350e')],\n",
      " 'transportation_mode': None,\n",
      " 'user_id': '000'}\n",
      "{'_id': ObjectId('671566f3cbbb30e475823dc9'),\n",
      " 'end_time': datetime.datetime(2008, 11, 4, 3, 31, 8),\n",
      " 'start_time': datetime.datetime(2008, 11, 3, 23, 21, 53),\n",
      " 'trackpoints': [ObjectId('671566f3cbbb30e475823512'),\n",
      "                 ObjectId('671566f3cbbb30e475823513'),\n",
      "                 ObjectId('671566f3cbbb30e475823514'),\n",
      "                 ObjectId('671566f3cbbb30e475823515'),\n",
      "                 ObjectId('671566f3cbbb30e475823516')],\n",
      " 'transportation_mode': None,\n",
      " 'user_id': '000'}\n",
      "{'_id': ObjectId('671566f3cbbb30e475823eda'),\n",
      " 'end_time': datetime.datetime(2008, 11, 10, 3, 46, 12),\n",
      " 'start_time': datetime.datetime(2008, 11, 10, 1, 36, 37),\n",
      " 'trackpoints': [ObjectId('671566f3cbbb30e475823dca'),\n",
      "                 ObjectId('671566f3cbbb30e475823dcb'),\n",
      "                 ObjectId('671566f3cbbb30e475823dcc'),\n",
      "                 ObjectId('671566f3cbbb30e475823dcd'),\n",
      "                 ObjectId('671566f3cbbb30e475823dce')],\n",
      " 'transportation_mode': None,\n",
      " 'user_id': '000'}\n"
     ]
    }
   ],
   "source": [
    "documents = db.activity.find().limit(10)\n",
    "for doc in documents:\n",
    "    # Slice the trackpoints to only show the first 5 \n",
    "    if 'trackpoints' in doc:\n",
    "        doc['trackpoints'] = doc['trackpoints'][:5]\n",
    "    pprint(doc)"
   ]
  },
  {
   "cell_type": "code",
   "execution_count": 48,
   "metadata": {},
   "outputs": [
    {
     "name": "stdout",
     "output_type": "stream",
     "text": [
      "{'_id': ObjectId('671566f2cbbb30e4758226d8'),\n",
      " 'altitude': '492',\n",
      " 'date_days': '39744.1201851852',\n",
      " 'date_time': datetime.datetime(2008, 10, 23, 2, 53, 4),\n",
      " 'lat': '39.984702',\n",
      " 'lon': '116.318417'}\n",
      "{'_id': ObjectId('671566f2cbbb30e4758226d9'),\n",
      " 'altitude': '492',\n",
      " 'date_days': '39744.1202546296',\n",
      " 'date_time': datetime.datetime(2008, 10, 23, 2, 53, 10),\n",
      " 'lat': '39.984683',\n",
      " 'lon': '116.31845'}\n",
      "{'_id': ObjectId('671566f2cbbb30e4758226da'),\n",
      " 'altitude': '492',\n",
      " 'date_days': '39744.1203125',\n",
      " 'date_time': datetime.datetime(2008, 10, 23, 2, 53, 15),\n",
      " 'lat': '39.984686',\n",
      " 'lon': '116.318417'}\n",
      "{'_id': ObjectId('671566f2cbbb30e4758226db'),\n",
      " 'altitude': '492',\n",
      " 'date_days': '39744.1203703704',\n",
      " 'date_time': datetime.datetime(2008, 10, 23, 2, 53, 20),\n",
      " 'lat': '39.984688',\n",
      " 'lon': '116.318385'}\n",
      "{'_id': ObjectId('671566f2cbbb30e4758226dc'),\n",
      " 'altitude': '492',\n",
      " 'date_days': '39744.1204282407',\n",
      " 'date_time': datetime.datetime(2008, 10, 23, 2, 53, 25),\n",
      " 'lat': '39.984655',\n",
      " 'lon': '116.318263'}\n",
      "{'_id': ObjectId('671566f2cbbb30e4758226dd'),\n",
      " 'altitude': '493',\n",
      " 'date_days': '39744.1204861111',\n",
      " 'date_time': datetime.datetime(2008, 10, 23, 2, 53, 30),\n",
      " 'lat': '39.984611',\n",
      " 'lon': '116.318026'}\n",
      "{'_id': ObjectId('671566f2cbbb30e4758226de'),\n",
      " 'altitude': '493',\n",
      " 'date_days': '39744.1205439815',\n",
      " 'date_time': datetime.datetime(2008, 10, 23, 2, 53, 35),\n",
      " 'lat': '39.984608',\n",
      " 'lon': '116.317761'}\n",
      "{'_id': ObjectId('671566f2cbbb30e4758226df'),\n",
      " 'altitude': '496',\n",
      " 'date_days': '39744.1206018519',\n",
      " 'date_time': datetime.datetime(2008, 10, 23, 2, 53, 40),\n",
      " 'lat': '39.984563',\n",
      " 'lon': '116.317517'}\n",
      "{'_id': ObjectId('671566f2cbbb30e4758226e0'),\n",
      " 'altitude': '500',\n",
      " 'date_days': '39744.1206597222',\n",
      " 'date_time': datetime.datetime(2008, 10, 23, 2, 53, 45),\n",
      " 'lat': '39.984539',\n",
      " 'lon': '116.317294'}\n",
      "{'_id': ObjectId('671566f2cbbb30e4758226e1'),\n",
      " 'altitude': '505',\n",
      " 'date_days': '39744.1207175926',\n",
      " 'date_time': datetime.datetime(2008, 10, 23, 2, 53, 50),\n",
      " 'lat': '39.984606',\n",
      " 'lon': '116.317065'}\n"
     ]
    }
   ],
   "source": [
    "documents = db.trackpoint.find().limit(10)\n",
    "for doc in documents:\n",
    "    pprint(doc)"
   ]
  },
  {
   "cell_type": "markdown",
   "metadata": {},
   "source": [
    "# PART 2"
   ]
  },
  {
   "cell_type": "markdown",
   "metadata": {},
   "source": [
    "#### 1. How many users, activities, and trackpoints are there in the dataset (after it is inserted into the database)."
   ]
  },
  {
   "cell_type": "code",
   "execution_count": 49,
   "metadata": {},
   "outputs": [
    {
     "name": "stdout",
     "output_type": "stream",
     "text": [
      "+------------+---------+\n",
      "| Collection |  Count  |\n",
      "+------------+---------+\n",
      "|    User    |   182   |\n",
      "|  Activity  |  16050  |\n",
      "| Trackpoint | 9686758 |\n",
      "+------------+---------+\n"
     ]
    }
   ],
   "source": [
    "user_count = db.user.count_documents({})\n",
    "activity_count = db.activity.count_documents({})\n",
    "tp_count = db.trackpoint.count_documents({})\n",
    "rows = [\n",
    "    [\"User\", user_count],\n",
    "    [\"Activity\", activity_count],\n",
    "    [\"Trackpoint\", tp_count]\n",
    "]\n",
    "print(tabulate(rows, headers=[\"Collection\", \"Count\"], tablefmt=\"pretty\"))\n"
   ]
  },
  {
   "cell_type": "markdown",
   "metadata": {},
   "source": [
    "#### 2. Find the average number of activities per user."
   ]
  },
  {
   "cell_type": "code",
   "execution_count": 50,
   "metadata": {},
   "outputs": [
    {
     "name": "stdout",
     "output_type": "stream",
     "text": [
      "{'_id': None, 'average_activities_per_user': 92.77456647398844}\n"
     ]
    }
   ],
   "source": [
    "pipeline = [\n",
    "    {\n",
    "        \"$group\": {\n",
    "            \"_id\": \"$user_id\",\n",
    "            \"activity_count\": {\"$sum\": 1}  # Count activities per user\n",
    "        }\n",
    "    },\n",
    "    {\n",
    "        \"$group\": {\n",
    "            \"_id\": None,\n",
    "            \"average_activities_per_user\": {\"$avg\": \"$activity_count\"}\n",
    "        }\n",
    "    }\n",
    "]\n",
    "result = db.activity.aggregate(pipeline)\n",
    "for doc in result:\n",
    "    pprint(doc)"
   ]
  },
  {
   "cell_type": "markdown",
   "metadata": {},
   "source": [
    "#### 3. Find the top 20 users with the highest number of activities."
   ]
  },
  {
   "cell_type": "code",
   "execution_count": 51,
   "metadata": {},
   "outputs": [
    {
     "name": "stdout",
     "output_type": "stream",
     "text": [
      "{'_id': '128', 'activity_count': 2102}\n",
      "{'_id': '153', 'activity_count': 1794}\n",
      "{'_id': '025', 'activity_count': 715}\n",
      "{'_id': '163', 'activity_count': 704}\n",
      "{'_id': '062', 'activity_count': 691}\n",
      "{'_id': '144', 'activity_count': 563}\n",
      "{'_id': '041', 'activity_count': 399}\n",
      "{'_id': '085', 'activity_count': 364}\n",
      "{'_id': '004', 'activity_count': 346}\n",
      "{'_id': '140', 'activity_count': 345}\n",
      "{'_id': '167', 'activity_count': 320}\n",
      "{'_id': '068', 'activity_count': 280}\n",
      "{'_id': '017', 'activity_count': 265}\n",
      "{'_id': '003', 'activity_count': 261}\n",
      "{'_id': '014', 'activity_count': 236}\n",
      "{'_id': '126', 'activity_count': 215}\n",
      "{'_id': '030', 'activity_count': 210}\n",
      "{'_id': '112', 'activity_count': 208}\n",
      "{'_id': '011', 'activity_count': 201}\n",
      "{'_id': '039', 'activity_count': 198}\n"
     ]
    }
   ],
   "source": [
    "pipeline = [\n",
    "    {\n",
    "        \"$group\": {\n",
    "            \"_id\": \"$user_id\",\n",
    "            \"activity_count\": {\"$sum\": 1}\n",
    "        }\n",
    "    },\n",
    "    {\n",
    "        \"$sort\": {\n",
    "            'activity_count': -1\n",
    "        }\n",
    "    },\n",
    "    {\n",
    "        \"$limit\": 20\n",
    "    }\n",
    "]\n",
    "result = db.activity.aggregate(pipeline)\n",
    "for doc in result:\n",
    "    pprint(doc)"
   ]
  },
  {
   "cell_type": "markdown",
   "metadata": {},
   "source": [
    "#### 4. Find all users who have taken a taxi."
   ]
  },
  {
   "cell_type": "code",
   "execution_count": 52,
   "metadata": {},
   "outputs": [
    {
     "name": "stdout",
     "output_type": "stream",
     "text": [
      "{'_id': '010'}\n",
      "{'_id': '058'}\n",
      "{'_id': '062'}\n",
      "{'_id': '078'}\n",
      "{'_id': '080'}\n",
      "{'_id': '085'}\n",
      "{'_id': '098'}\n",
      "{'_id': '111'}\n",
      "{'_id': '128'}\n",
      "{'_id': '163'}\n"
     ]
    }
   ],
   "source": [
    "pipeline = [\n",
    "    {\n",
    "        \"$match\": {\n",
    "            \"transportation_mode\": \"taxi\"\n",
    "        }\n",
    "    },\n",
    "    {\n",
    "        \"$group\": {\n",
    "            \"_id\": \"$user_id\"\n",
    "        }\n",
    "    },\n",
    "    {\n",
    "        \"$sort\": {\n",
    "            \"_id\": 1\n",
    "        }\n",
    "    }\n",
    "]\n",
    "result = db.activity.aggregate(pipeline)\n",
    "for doc in result:\n",
    "    pprint(doc)\n"
   ]
  },
  {
   "cell_type": "markdown",
   "metadata": {},
   "source": [
    "#### 5. Find all types of transportation modes and count how many activities that are tagged with these transportation mode labels. Do not count the rows where the mode is null."
   ]
  },
  {
   "cell_type": "code",
   "execution_count": 53,
   "metadata": {},
   "outputs": [
    {
     "name": "stdout",
     "output_type": "stream",
     "text": [
      "{'_id': 'walk', 'activity_count': 480}\n",
      "{'_id': 'car', 'activity_count': 419}\n",
      "{'_id': 'bike', 'activity_count': 263}\n",
      "{'_id': 'bus', 'activity_count': 199}\n",
      "{'_id': 'subway', 'activity_count': 133}\n",
      "{'_id': 'taxi', 'activity_count': 37}\n",
      "{'_id': 'airplane', 'activity_count': 3}\n",
      "{'_id': 'train', 'activity_count': 2}\n",
      "{'_id': 'boat', 'activity_count': 1}\n",
      "{'_id': 'run', 'activity_count': 1}\n"
     ]
    }
   ],
   "source": [
    "pipeline = [\n",
    "    {\n",
    "        \"$match\": {\n",
    "            \"transportation_mode\": {\"$ne\": None}\n",
    "        }\n",
    "    },\n",
    "    {\n",
    "        \"$group\": {\n",
    "            \"_id\": \"$transportation_mode\",\n",
    "            \"activity_count\": {\"$sum\": 1}\n",
    "        }\n",
    "    },\n",
    "    {\n",
    "        \"$sort\": {\n",
    "            \"activity_count\": -1\n",
    "        }\n",
    "    }\n",
    "]\n",
    "results = db.activity.aggregate(pipeline)\n",
    "for doc in results:\n",
    "    pprint(doc)"
   ]
  },
  {
   "cell_type": "markdown",
   "metadata": {},
   "source": [
    "#### 6. a) Find the year with the most activities."
   ]
  },
  {
   "cell_type": "code",
   "execution_count": 62,
   "metadata": {},
   "outputs": [
    {
     "name": "stdout",
     "output_type": "stream",
     "text": [
      "{'_id': 2008, 'activity_count': 5895}\n"
     ]
    }
   ],
   "source": [
    "pipeline = [\n",
    "    {\n",
    "        \"$project\": {\n",
    "            \"activity_year\": {\"$year\": \"$start_time\"}\n",
    "        }\n",
    "    },\n",
    "    {\n",
    "        \"$group\": {\n",
    "            \"_id\": \"$activity_year\",\n",
    "            \"activity_count\": {\"$sum\": 1}\n",
    "        }\n",
    "    },\n",
    "    {\n",
    "        \"$sort\": {\n",
    "            \"activity_count\": -1\n",
    "        }\n",
    "    }\n",
    "]\n",
    "results = db.activity.aggregate(pipeline)\n",
    "pprint(results.next())"
   ]
  },
  {
   "cell_type": "markdown",
   "metadata": {},
   "source": [
    "#### 6. b) Is this also the year with most recorded hours? "
   ]
  },
  {
   "cell_type": "code",
   "execution_count": 69,
   "metadata": {},
   "outputs": [
    {
     "name": "stdout",
     "output_type": "stream",
     "text": [
      "{'_id': 2009, 'total_hours': 11616.0}\n"
     ]
    }
   ],
   "source": [
    "pipeline = [\n",
    "    {\n",
    "        \"$project\": {\n",
    "            \"activity_year\": {\"$year\": \"$start_time\"},\n",
    "            \"hours_diff\": {\n",
    "                \"$divide\": [{\"$dateDiff\": {\n",
    "                            \"startDate\": \"$start_time\",\n",
    "                            \"endDate\": \"$end_time\",\n",
    "                            \"unit\": \"second\"\n",
    "                        }\n",
    "                    },\n",
    "                    3600  # Convert seconds to hours\n",
    "                ]\n",
    "            }\n",
    "        }\n",
    "    },\n",
    "    {\n",
    "        \"$group\": {\n",
    "            \"_id\": \"$activity_year\", \n",
    "            \"total_hours\": {\"$sum\": \"$hours_diff\"}\n",
    "        }\n",
    "    },\n",
    "    {\n",
    "        \"$project\": {\n",
    "            \"total_hours\": {\"$round\": [\"$total_hours\", 0]}\n",
    "        }\n",
    "    },\n",
    "    {\n",
    "        \"$sort\": {\n",
    "            \"total_hours\": -1  # Sort by total_hours in descending order\n",
    "        }\n",
    "    }\n",
    "]\n",
    "\n",
    "results = db.activity.aggregate(pipeline)\n",
    "pprint(results.next())"
   ]
  },
  {
   "cell_type": "markdown",
   "metadata": {},
   "source": [
    "No, 2009 is the year with the most activities."
   ]
  },
  {
   "cell_type": "markdown",
   "metadata": {},
   "source": [
    "#### 7. Find the total distance (in km) walked in 2008, by user with id=112."
   ]
  },
  {
   "cell_type": "code",
   "execution_count": null,
   "metadata": {},
   "outputs": [],
   "source": [
    "cursor.execute(\"\"\"\n",
    "    SELECT tp.lat, tp.lon\n",
    "    FROM TrackPoint tp\n",
    "    JOIN Activity a ON tp.activity_id = a.id\n",
    "    WHERE a.user_id = '112'\n",
    "      AND a.transportation_mode = 'walk'\n",
    "      AND YEAR(a.start_date_time) = 2008\n",
    "    ORDER BY a.id, tp.date_time\n",
    "\"\"\")\n",
    "trackpoints = cursor.fetchall()\n",
    "\n",
    "\n",
    "\n",
    "total_distance_km = 0\n",
    "for i in range(1, len(trackpoints)):\n",
    "    prev_point = (trackpoints[i-1][0], trackpoints[i-1][1])  # (lat, lon)\n",
    "    curr_point = (trackpoints[i][0], trackpoints[i][1])      # (lat, lon)\n",
    "    distance = haversine(prev_point, curr_point, unit=Unit.KILOMETERS)\n",
    "    total_distance_km += distance\n",
    "\n",
    "print(f\"Total distance walked in 2008 by user 112: {total_distance_km:.2f} km\")"
   ]
  },
  {
   "cell_type": "markdown",
   "metadata": {},
   "source": [
    "#### 8. Find the top 20 users who have gained the most altitude meters."
   ]
  },
  {
   "cell_type": "code",
   "execution_count": null,
   "metadata": {},
   "outputs": [],
   "source": [
    "cursor.execute(\"\"\"\n",
    "SELECT\n",
    "    a.user_id AS user_id,\n",
    "    SUM(CASE WHEN tp2.altitude > tp1.altitude THEN tp2.altitude - tp1.altitude ELSE 0 END) \n",
    "    AS total_elevation_gain\n",
    "FROM Activity AS a \n",
    "JOIN TrackPoint AS tp1 ON a.id = tp1.activity_id\n",
    "JOIN TrackPoint AS tp2 ON a.id = tp2.activity_id AND tp2.id = tp1.id + 1\n",
    "WHERE tp1.altitude IS NOT NULL AND tp2.altitude IS NOT NULL \n",
    "    AND tp1.altitude != -777 AND tp2.altitude != -777\n",
    "GROUP BY user_id\n",
    "ORDER BY total_elevation_gain DESC\n",
    "LIMIT 20\n",
    "\"\"\")\n",
    "\n",
    "rows = cursor.fetchall()\n",
    "print(tabulate(rows, headers=['User ID', 'Total Elevation Gain (feet)'], tablefmt='pretty'))\n",
    "print(\"\"\"\\n I only remove altitude values which we KNOW are invalid, \n",
    "      ie. they are -777 as specified it the assignment or NULL.\"\"\")"
   ]
  },
  {
   "cell_type": "markdown",
   "metadata": {},
   "source": [
    "#### 9. Find all users who have invalid activities, and the number of invalid activities per user"
   ]
  },
  {
   "cell_type": "code",
   "execution_count": null,
   "metadata": {},
   "outputs": [],
   "source": [
    "cursor.execute(\"\"\"\n",
    "    WITH InvalidActivities AS (\n",
    "        SELECT\n",
    "            tp1.activity_id\n",
    "        FROM\n",
    "            TrackPoint tp1\n",
    "        JOIN\n",
    "            TrackPoint tp2 ON tp1.activity_id = tp2.activity_id\n",
    "                        AND tp2.id = tp1.id + 1\n",
    "        WHERE\n",
    "            TIMESTAMPDIFF(MINUTE, tp1.date_time, tp2.date_time) >= 5\n",
    "        GROUP BY\n",
    "            tp1.activity_id\n",
    "    )\n",
    "    SELECT  \n",
    "        user_id,\n",
    "        COUNT(activity_id) AS invalid_activities_count\n",
    "    FROM\n",
    "        InvalidActivities as ia\n",
    "    JOIN Activity as a ON a.id = ia.activity_id\n",
    "    GROUP BY\n",
    "        user_id\n",
    "\"\"\")\n",
    "rows = cursor.fetchall()\n",
    "print(tabulate(rows, headers=['User ID', 'Invalid Activity Count'], tablefmt='pretty'))"
   ]
  },
  {
   "cell_type": "markdown",
   "metadata": {},
   "source": [
    "#### 10. Find the users who have tracked an activity in the Forbidden City of Beijing.  \n"
   ]
  },
  {
   "cell_type": "code",
   "execution_count": null,
   "metadata": {},
   "outputs": [],
   "source": [
    "cursor.execute(\"\"\"\n",
    "    SELECT user_id\n",
    "    FROM Activity a\n",
    "    JOIN TrackPoint tp ON a.id = tp.activity_id\n",
    "    WHERE tp.lat BETWEEN 39.915 AND 39.917\n",
    "      AND tp.lon BETWEEN 116.396 AND 116.398\n",
    "    GROUP BY user_id\n",
    "\"\"\")\n",
    "rows = cursor.fetchall()\n",
    "print(tabulate(rows, headers=['User ID'], tablefmt='pretty'))\n",
    "print(\"\\n I provided a tiny range around the given coordinates to simplify the query.\")"
   ]
  },
  {
   "cell_type": "markdown",
   "metadata": {},
   "source": [
    "#### 11. Find all users who have registered transportation_mode and their most used transportation_mode. "
   ]
  },
  {
   "cell_type": "code",
   "execution_count": null,
   "metadata": {},
   "outputs": [],
   "source": [
    "\n",
    "cursor.execute(\"\"\"\n",
    "    SELECT user_id, transportation_mode \n",
    "    FROM\n",
    "        (SELECT user_id, transportation_mode, \n",
    "        RANK() OVER(PARTITION BY user_id ORDER BY transportation_mode ASC) as lexrnk \n",
    "        FROM\n",
    "            (SELECT user_id, transportation_mode, COUNT(*) AS activity_count,\n",
    "            RANK() OVER(PARTITION BY user_id ORDER BY COUNT(*) DESC) as rnk\n",
    "            FROM Activity\n",
    "            WHERE transportation_mode IS NOT NULL\n",
    "            GROUP BY user_id, transportation_mode) AS Ranked\n",
    "        WHERE rnk = 1\n",
    "        ) AS LexRanked\n",
    "    WHERE lexrnk = 1\n",
    "    ORDER BY user_id\n",
    "    \"\"\")\n",
    "rows = cursor.fetchall()\n",
    "print(tabulate(rows, headers=['User ID',' Most Used Transportation Mode'], tablefmt='pretty'))\n",
    "print(\"\"\"\\n The innermost subquery finds the user's most used transportation mode(s). \n",
    "      The second subquery handles tie breaks alphabetically.\"\"\")"
   ]
  }
 ],
 "metadata": {
  "kernelspec": {
   "display_name": "myenv",
   "language": "python",
   "name": "python3"
  },
  "language_info": {
   "codemirror_mode": {
    "name": "ipython",
    "version": 3
   },
   "file_extension": ".py",
   "mimetype": "text/x-python",
   "name": "python",
   "nbconvert_exporter": "python",
   "pygments_lexer": "ipython3",
   "version": "3.11.5"
  }
 },
 "nbformat": 4,
 "nbformat_minor": 2
}
