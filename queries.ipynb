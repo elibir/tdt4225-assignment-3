{
 "cells": [
  {
   "cell_type": "markdown",
   "metadata": {},
   "source": [
    "# RESULTS"
   ]
  },
  {
   "cell_type": "code",
   "execution_count": 36,
   "metadata": {},
   "outputs": [],
   "source": [
    "from pprint import pprint \n",
    "from DbConnector import DbConnector\n",
    "from haversine import haversine, Unit\n",
    "from tabulate import tabulate"
   ]
  },
  {
   "cell_type": "code",
   "execution_count": 37,
   "metadata": {},
   "outputs": [
    {
     "name": "stdout",
     "output_type": "stream",
     "text": [
      "You are connected to the database: geolife\n",
      "-----------------------------------------------\n",
      "\n"
     ]
    }
   ],
   "source": [
    "try:\n",
    "    connection = DbConnector()\n",
    "    client = connection.client\n",
    "    db = connection.db\n",
    "except Exception as e:\n",
    "    print(\"ERROR: Failed to connect to db:\", e)"
   ]
  },
  {
   "cell_type": "markdown",
   "metadata": {},
   "source": [
    "# PART 1"
   ]
  },
  {
   "cell_type": "markdown",
   "metadata": {},
   "source": [
    "#### Showing the 10 first rows of each table in the database, after data is inserted"
   ]
  },
  {
   "cell_type": "code",
   "execution_count": 38,
   "metadata": {},
   "outputs": [
    {
     "name": "stdout",
     "output_type": "stream",
     "text": [
      "{'_id': '000', 'has_labels': False}\n",
      "{'_id': '001', 'has_labels': False}\n",
      "{'_id': '002', 'has_labels': False}\n",
      "{'_id': '003', 'has_labels': False}\n",
      "{'_id': '004', 'has_labels': False}\n",
      "{'_id': '005', 'has_labels': False}\n",
      "{'_id': '006', 'has_labels': False}\n",
      "{'_id': '007', 'has_labels': False}\n",
      "{'_id': '008', 'has_labels': False}\n",
      "{'_id': '009', 'has_labels': False}\n"
     ]
    }
   ],
   "source": [
    "documents = db.user.find().limit(10)\n",
    "for doc in documents: \n",
    "    pprint(doc)"
   ]
  },
  {
   "cell_type": "code",
   "execution_count": 39,
   "metadata": {},
   "outputs": [
    {
     "name": "stdout",
     "output_type": "stream",
     "text": [
      "{'_id': ObjectId('67151e95861279f7b5f1b143'),\n",
      " 'end_time': datetime.datetime(2008, 10, 23, 11, 11, 12),\n",
      " 'start_time': datetime.datetime(2008, 10, 23, 2, 53, 4),\n",
      " 'trackpoints': [ObjectId('67151e95861279f7b5f1adb7'),\n",
      "                 ObjectId('67151e95861279f7b5f1adb8'),\n",
      "                 ObjectId('67151e95861279f7b5f1adb9'),\n",
      "                 ObjectId('67151e95861279f7b5f1adba'),\n",
      "                 ObjectId('67151e95861279f7b5f1adbb')],\n",
      " 'transportation_mode': None,\n",
      " 'user_id': '000'}\n",
      "{'_id': ObjectId('67151e95861279f7b5f1b238'),\n",
      " 'end_time': datetime.datetime(2008, 10, 24, 2, 47, 6),\n",
      " 'start_time': datetime.datetime(2008, 10, 24, 2, 9, 59),\n",
      " 'trackpoints': [ObjectId('67151e95861279f7b5f1b144'),\n",
      "                 ObjectId('67151e95861279f7b5f1b145'),\n",
      "                 ObjectId('67151e95861279f7b5f1b146'),\n",
      "                 ObjectId('67151e95861279f7b5f1b147'),\n",
      "                 ObjectId('67151e95861279f7b5f1b148')],\n",
      " 'transportation_mode': None,\n",
      " 'user_id': '000'}\n",
      "{'_id': ObjectId('67151e95861279f7b5f1b522'),\n",
      " 'end_time': datetime.datetime(2008, 10, 26, 15, 4, 7),\n",
      " 'start_time': datetime.datetime(2008, 10, 26, 13, 44, 7),\n",
      " 'trackpoints': [ObjectId('67151e95861279f7b5f1b239'),\n",
      "                 ObjectId('67151e95861279f7b5f1b23a'),\n",
      "                 ObjectId('67151e95861279f7b5f1b23b'),\n",
      "                 ObjectId('67151e95861279f7b5f1b23c'),\n",
      "                 ObjectId('67151e95861279f7b5f1b23d')],\n",
      " 'transportation_mode': None,\n",
      " 'user_id': '000'}\n",
      "{'_id': ObjectId('67151e95861279f7b5f1b555'),\n",
      " 'end_time': datetime.datetime(2008, 10, 27, 12, 5, 54),\n",
      " 'start_time': datetime.datetime(2008, 10, 27, 11, 54, 49),\n",
      " 'trackpoints': [ObjectId('67151e95861279f7b5f1b523'),\n",
      "                 ObjectId('67151e95861279f7b5f1b524'),\n",
      "                 ObjectId('67151e95861279f7b5f1b525'),\n",
      "                 ObjectId('67151e95861279f7b5f1b526'),\n",
      "                 ObjectId('67151e95861279f7b5f1b527')],\n",
      " 'transportation_mode': None,\n",
      " 'user_id': '000'}\n",
      "{'_id': ObjectId('67151e95861279f7b5f1bb1b'),\n",
      " 'end_time': datetime.datetime(2008, 10, 28, 5, 3, 42),\n",
      " 'start_time': datetime.datetime(2008, 10, 28, 0, 38, 26),\n",
      " 'trackpoints': [ObjectId('67151e95861279f7b5f1b556'),\n",
      "                 ObjectId('67151e95861279f7b5f1b557'),\n",
      "                 ObjectId('67151e95861279f7b5f1b558'),\n",
      "                 ObjectId('67151e95861279f7b5f1b559'),\n",
      "                 ObjectId('67151e95861279f7b5f1b55a')],\n",
      " 'transportation_mode': None,\n",
      " 'user_id': '000'}\n",
      "{'_id': ObjectId('67151e95861279f7b5f1bb31'),\n",
      " 'end_time': datetime.datetime(2008, 10, 29, 9, 30, 28),\n",
      " 'start_time': datetime.datetime(2008, 10, 29, 9, 21, 38),\n",
      " 'trackpoints': [ObjectId('67151e95861279f7b5f1bb1c'),\n",
      "                 ObjectId('67151e95861279f7b5f1bb1d'),\n",
      "                 ObjectId('67151e95861279f7b5f1bb1e'),\n",
      "                 ObjectId('67151e95861279f7b5f1bb1f'),\n",
      "                 ObjectId('67151e95861279f7b5f1bb20')],\n",
      " 'transportation_mode': None,\n",
      " 'user_id': '000'}\n",
      "{'_id': ObjectId('67151e95861279f7b5f1bbe8'),\n",
      " 'end_time': datetime.datetime(2008, 10, 29, 9, 46, 43),\n",
      " 'start_time': datetime.datetime(2008, 10, 29, 9, 30, 38),\n",
      " 'trackpoints': [ObjectId('67151e95861279f7b5f1bb32'),\n",
      "                 ObjectId('67151e95861279f7b5f1bb33'),\n",
      "                 ObjectId('67151e95861279f7b5f1bb34'),\n",
      "                 ObjectId('67151e95861279f7b5f1bb35'),\n",
      "                 ObjectId('67151e95861279f7b5f1bb36')],\n",
      " 'transportation_mode': None,\n",
      " 'user_id': '000'}\n",
      "{'_id': ObjectId('67151e95861279f7b5f1bbf0'),\n",
      " 'end_time': datetime.datetime(2008, 11, 3, 10, 16, 1),\n",
      " 'start_time': datetime.datetime(2008, 11, 3, 10, 13, 36),\n",
      " 'trackpoints': [ObjectId('67151e95861279f7b5f1bbe9'),\n",
      "                 ObjectId('67151e95861279f7b5f1bbea'),\n",
      "                 ObjectId('67151e95861279f7b5f1bbeb'),\n",
      "                 ObjectId('67151e95861279f7b5f1bbec'),\n",
      "                 ObjectId('67151e95861279f7b5f1bbed')],\n",
      " 'transportation_mode': None,\n",
      " 'user_id': '000'}\n",
      "{'_id': ObjectId('67151e95861279f7b5f1c4a8'),\n",
      " 'end_time': datetime.datetime(2008, 11, 4, 3, 31, 8),\n",
      " 'start_time': datetime.datetime(2008, 11, 3, 23, 21, 53),\n",
      " 'trackpoints': [ObjectId('67151e95861279f7b5f1bbf1'),\n",
      "                 ObjectId('67151e95861279f7b5f1bbf2'),\n",
      "                 ObjectId('67151e95861279f7b5f1bbf3'),\n",
      "                 ObjectId('67151e95861279f7b5f1bbf4'),\n",
      "                 ObjectId('67151e95861279f7b5f1bbf5')],\n",
      " 'transportation_mode': None,\n",
      " 'user_id': '000'}\n",
      "{'_id': ObjectId('67151e95861279f7b5f1c5b9'),\n",
      " 'end_time': datetime.datetime(2008, 11, 10, 3, 46, 12),\n",
      " 'start_time': datetime.datetime(2008, 11, 10, 1, 36, 37),\n",
      " 'trackpoints': [ObjectId('67151e95861279f7b5f1c4a9'),\n",
      "                 ObjectId('67151e95861279f7b5f1c4aa'),\n",
      "                 ObjectId('67151e95861279f7b5f1c4ab'),\n",
      "                 ObjectId('67151e95861279f7b5f1c4ac'),\n",
      "                 ObjectId('67151e95861279f7b5f1c4ad')],\n",
      " 'transportation_mode': None,\n",
      " 'user_id': '000'}\n"
     ]
    }
   ],
   "source": [
    "documents = db.activity.find().limit(10)\n",
    "for doc in documents:\n",
    "    # Slice the trackpoints to only show the first 5 \n",
    "    if 'trackpoints' in doc:\n",
    "        doc['trackpoints'] = doc['trackpoints'][:5]\n",
    "    pprint(doc)"
   ]
  },
  {
   "cell_type": "code",
   "execution_count": 40,
   "metadata": {},
   "outputs": [
    {
     "name": "stdout",
     "output_type": "stream",
     "text": [
      "{'_id': ObjectId('67151e95861279f7b5f1adb7'),\n",
      " 'altitude': '492',\n",
      " 'date_days': '39744.1201851852',\n",
      " 'date_time': datetime.datetime(2008, 10, 23, 2, 53, 4),\n",
      " 'lat': '39.984702',\n",
      " 'lon': '116.318417'}\n",
      "{'_id': ObjectId('67151e95861279f7b5f1adb8'),\n",
      " 'altitude': '492',\n",
      " 'date_days': '39744.1202546296',\n",
      " 'date_time': datetime.datetime(2008, 10, 23, 2, 53, 10),\n",
      " 'lat': '39.984683',\n",
      " 'lon': '116.31845'}\n",
      "{'_id': ObjectId('67151e95861279f7b5f1adb9'),\n",
      " 'altitude': '492',\n",
      " 'date_days': '39744.1203125',\n",
      " 'date_time': datetime.datetime(2008, 10, 23, 2, 53, 15),\n",
      " 'lat': '39.984686',\n",
      " 'lon': '116.318417'}\n",
      "{'_id': ObjectId('67151e95861279f7b5f1adba'),\n",
      " 'altitude': '492',\n",
      " 'date_days': '39744.1203703704',\n",
      " 'date_time': datetime.datetime(2008, 10, 23, 2, 53, 20),\n",
      " 'lat': '39.984688',\n",
      " 'lon': '116.318385'}\n",
      "{'_id': ObjectId('67151e95861279f7b5f1adbb'),\n",
      " 'altitude': '492',\n",
      " 'date_days': '39744.1204282407',\n",
      " 'date_time': datetime.datetime(2008, 10, 23, 2, 53, 25),\n",
      " 'lat': '39.984655',\n",
      " 'lon': '116.318263'}\n",
      "{'_id': ObjectId('67151e95861279f7b5f1adbc'),\n",
      " 'altitude': '493',\n",
      " 'date_days': '39744.1204861111',\n",
      " 'date_time': datetime.datetime(2008, 10, 23, 2, 53, 30),\n",
      " 'lat': '39.984611',\n",
      " 'lon': '116.318026'}\n",
      "{'_id': ObjectId('67151e95861279f7b5f1adbd'),\n",
      " 'altitude': '493',\n",
      " 'date_days': '39744.1205439815',\n",
      " 'date_time': datetime.datetime(2008, 10, 23, 2, 53, 35),\n",
      " 'lat': '39.984608',\n",
      " 'lon': '116.317761'}\n",
      "{'_id': ObjectId('67151e95861279f7b5f1adbe'),\n",
      " 'altitude': '496',\n",
      " 'date_days': '39744.1206018519',\n",
      " 'date_time': datetime.datetime(2008, 10, 23, 2, 53, 40),\n",
      " 'lat': '39.984563',\n",
      " 'lon': '116.317517'}\n",
      "{'_id': ObjectId('67151e95861279f7b5f1adbf'),\n",
      " 'altitude': '500',\n",
      " 'date_days': '39744.1206597222',\n",
      " 'date_time': datetime.datetime(2008, 10, 23, 2, 53, 45),\n",
      " 'lat': '39.984539',\n",
      " 'lon': '116.317294'}\n",
      "{'_id': ObjectId('67151e95861279f7b5f1adc0'),\n",
      " 'altitude': '505',\n",
      " 'date_days': '39744.1207175926',\n",
      " 'date_time': datetime.datetime(2008, 10, 23, 2, 53, 50),\n",
      " 'lat': '39.984606',\n",
      " 'lon': '116.317065'}\n"
     ]
    }
   ],
   "source": [
    "documents = db.trackpoint.find().limit(10)\n",
    "for doc in documents:\n",
    "    pprint(doc)"
   ]
  },
  {
   "cell_type": "markdown",
   "metadata": {},
   "source": [
    "# PART 2"
   ]
  },
  {
   "cell_type": "markdown",
   "metadata": {},
   "source": [
    "#### 1. How many users, activities, and trackpoints are there in the dataset (after it is inserted into the database)."
   ]
  },
  {
   "cell_type": "code",
   "execution_count": 41,
   "metadata": {},
   "outputs": [
    {
     "name": "stdout",
     "output_type": "stream",
     "text": [
      "+------------+---------+\n",
      "| Collection |  Count  |\n",
      "+------------+---------+\n",
      "|    User    |   182   |\n",
      "|  Activity  |  16050  |\n",
      "| Trackpoint | 9686758 |\n",
      "+------------+---------+\n"
     ]
    }
   ],
   "source": [
    "user_count = db.user.count_documents({})\n",
    "activity_count = db.activity.count_documents({})\n",
    "tp_count = db.trackpoint.count_documents({})\n",
    "rows = [\n",
    "    [\"User\", user_count],\n",
    "    [\"Activity\", activity_count],\n",
    "    [\"Trackpoint\", tp_count]\n",
    "]\n",
    "print(tabulate(rows, headers=[\"Collection\", \"Count\"], tablefmt=\"pretty\"))\n"
   ]
  },
  {
   "cell_type": "markdown",
   "metadata": {},
   "source": [
    "#### 2. Find the average number of activities per user."
   ]
  },
  {
   "cell_type": "code",
   "execution_count": 51,
   "metadata": {},
   "outputs": [
    {
     "name": "stdout",
     "output_type": "stream",
     "text": [
      "{'_id': None, 'average_activities_per_user': 92.77456647398844}\n"
     ]
    }
   ],
   "source": [
    "pipeline = [\n",
    "    {\n",
    "        \"$group\": {\n",
    "            \"_id\": \"$user_id\",\n",
    "            \"activity_count\": {\"$sum\": 1}  # Count activities per user\n",
    "        }\n",
    "    },\n",
    "    {\n",
    "        \"$group\": {\n",
    "            \"_id\": None,\n",
    "            \"average_activities_per_user\": {\"$avg\": \"$activity_count\"}\n",
    "        }\n",
    "    }\n",
    "]\n",
    "result = db.activity.aggregate(pipeline)\n",
    "for doc in result:\n",
    "    pprint()"
   ]
  },
  {
   "cell_type": "markdown",
   "metadata": {},
   "source": [
    "#### 3. Find the top 20 users with the highest number of activities."
   ]
  },
  {
   "cell_type": "code",
   "execution_count": 53,
   "metadata": {},
   "outputs": [
    {
     "name": "stdout",
     "output_type": "stream",
     "text": [
      "{'_id': '128', 'activity_count': 2102}\n",
      "{'_id': '153', 'activity_count': 1794}\n",
      "{'_id': '025', 'activity_count': 715}\n",
      "{'_id': '163', 'activity_count': 704}\n",
      "{'_id': '062', 'activity_count': 691}\n",
      "{'_id': '144', 'activity_count': 563}\n",
      "{'_id': '041', 'activity_count': 399}\n",
      "{'_id': '085', 'activity_count': 364}\n",
      "{'_id': '004', 'activity_count': 346}\n",
      "{'_id': '140', 'activity_count': 345}\n",
      "{'_id': '167', 'activity_count': 320}\n",
      "{'_id': '068', 'activity_count': 280}\n",
      "{'_id': '017', 'activity_count': 265}\n",
      "{'_id': '003', 'activity_count': 261}\n",
      "{'_id': '014', 'activity_count': 236}\n",
      "{'_id': '126', 'activity_count': 215}\n",
      "{'_id': '030', 'activity_count': 210}\n",
      "{'_id': '112', 'activity_count': 208}\n",
      "{'_id': '011', 'activity_count': 201}\n",
      "{'_id': '039', 'activity_count': 198}\n"
     ]
    }
   ],
   "source": [
    "pipeline = [\n",
    "    {\n",
    "        \"$group\": {\n",
    "            \"_id\": \"$user_id\",\n",
    "            \"activity_count\": {\"$sum\": 1}\n",
    "        }\n",
    "    },\n",
    "    {\n",
    "        \"$sort\": {\n",
    "            'activity_count': -1\n",
    "        }\n",
    "    },\n",
    "    {\n",
    "        \"$limit\": 20\n",
    "    }\n",
    "]\n",
    "result = db.activity.aggregate(pipeline)\n",
    "for doc in result:\n",
    "    pprint(doc)"
   ]
  },
  {
   "cell_type": "markdown",
   "metadata": {},
   "source": [
    "#### 4. Find all users who have taken a taxi."
   ]
  },
  {
   "cell_type": "code",
   "execution_count": 9,
   "metadata": {},
   "outputs": [
    {
     "name": "stdout",
     "output_type": "stream",
     "text": [
      "+---------+\n",
      "| User ID |\n",
      "+---------+\n",
      "|   010   |\n",
      "|   058   |\n",
      "|   062   |\n",
      "|   078   |\n",
      "|   080   |\n",
      "|   085   |\n",
      "|   098   |\n",
      "|   111   |\n",
      "|   128   |\n",
      "|   163   |\n",
      "+---------+\n"
     ]
    }
   ],
   "source": [
    "cursor.execute(\"\"\"\n",
    "    SELECT DISTINCT user_id\n",
    "    FROM Activity\n",
    "    WHERE transportation_mode = 'taxi'\n",
    "\"\"\")\n",
    "rows = cursor.fetchall()\n",
    "print(tabulate(rows, headers=['User ID'], tablefmt=\"pretty\"))\n"
   ]
  },
  {
   "cell_type": "markdown",
   "metadata": {},
   "source": [
    "#### 5. Find all types of transportation modes and count how many activities that are tagged with these transportation mode labels. Do not count the rows where the mode is null."
   ]
  },
  {
   "cell_type": "code",
   "execution_count": 10,
   "metadata": {},
   "outputs": [
    {
     "name": "stdout",
     "output_type": "stream",
     "text": [
      "+---------------------+----------------+\n",
      "| Transportation Mode | Activity Count |\n",
      "+---------------------+----------------+\n",
      "|        walk         |      480       |\n",
      "|         car         |      419       |\n",
      "|        bike         |      263       |\n",
      "|         bus         |      199       |\n",
      "|       subway        |      133       |\n",
      "|        taxi         |       37       |\n",
      "|      airplane       |       3        |\n",
      "|        train        |       2        |\n",
      "|         run         |       1        |\n",
      "|        boat         |       1        |\n",
      "+---------------------+----------------+\n"
     ]
    }
   ],
   "source": [
    "cursor.execute(\"\"\"\n",
    "    SELECT transportation_mode, COUNT(*) AS activity_count\n",
    "    FROM Activity\n",
    "    WHERE transportation_mode IS NOT NULL\n",
    "    GROUP BY transportation_mode\n",
    "    ORDER BY activity_count DESC\n",
    "\"\"\")\n",
    "rows = cursor.fetchall()\n",
    "print(tabulate(rows, headers=['Transportation Mode', 'Activity Count'], tablefmt='pretty'))\n"
   ]
  },
  {
   "cell_type": "markdown",
   "metadata": {},
   "source": [
    "#### 6. a) Find the year with the most activities."
   ]
  },
  {
   "cell_type": "code",
   "execution_count": 11,
   "metadata": {},
   "outputs": [
    {
     "name": "stdout",
     "output_type": "stream",
     "text": [
      "+------+----------------+\n",
      "| Year | Activity Count |\n",
      "+------+----------------+\n",
      "| 2008 |      5895      |\n",
      "| 2009 |      5880      |\n",
      "| 2010 |      1488      |\n",
      "| 2011 |      1204      |\n",
      "| 2007 |      994       |\n",
      "| 2012 |      588       |\n",
      "| 2000 |       1        |\n",
      "+------+----------------+\n",
      "\n",
      " 2008 is the year with the most activities.\n"
     ]
    }
   ],
   "source": [
    "cursor.execute(\"\"\"\n",
    "    SELECT YEAR(start_date_time) as year, COUNT(*) AS activity_count\n",
    "    FROM Activity\n",
    "    GROUP BY year\n",
    "    ORDER BY activity_count DESC\n",
    "\"\"\")\n",
    "rows = cursor.fetchall()\n",
    "print(tabulate(rows, headers=['Year', 'Activity Count'], tablefmt='pretty'))\n",
    "print(\"\\n\", rows[0][0], \"is the year with the most activities.\")\n"
   ]
  },
  {
   "cell_type": "markdown",
   "metadata": {},
   "source": [
    "#### 6. b) Is this also the year with most recorded hours? "
   ]
  },
  {
   "cell_type": "code",
   "execution_count": 12,
   "metadata": {},
   "outputs": [
    {
     "name": "stdout",
     "output_type": "stream",
     "text": [
      "+------+-------------+\n",
      "| Year | Total Hours |\n",
      "+------+-------------+\n",
      "| 2009 |    11616    |\n",
      "| 2008 |    9201     |\n",
      "| 2007 |    2315     |\n",
      "| 2010 |    1395     |\n",
      "| 2011 |    1132     |\n",
      "| 2012 |     711     |\n",
      "| 2000 |      0      |\n",
      "+------+-------------+\n",
      "\n",
      " 2009 is the year with the most hours.\n"
     ]
    }
   ],
   "source": [
    "cursor.execute(\"\"\"\n",
    "    SELECT YEAR(start_date_time) as year, \n",
    "        ROUND(SUM(TIMESTAMPDIFF(SECOND, start_date_time, end_date_time))/3600, 0) as total_hours\n",
    "    FROM Activity\n",
    "    GROUP BY year\n",
    "    ORDER BY total_hours DESC\n",
    "\"\"\")\n",
    "rows = cursor.fetchall()\n",
    "print(tabulate(rows, headers=['Year', 'Total Hours'], tablefmt='pretty'))\n",
    "print(\"\\n\", rows[0][0], \"is the year with the most hours.\")"
   ]
  },
  {
   "cell_type": "markdown",
   "metadata": {},
   "source": [
    "#### 7. Find the total distance (in km) walked in 2008, by user with id=112."
   ]
  },
  {
   "cell_type": "code",
   "execution_count": 13,
   "metadata": {},
   "outputs": [
    {
     "name": "stdout",
     "output_type": "stream",
     "text": [
      "Total distance walked in 2008 by user 112: 141.21 km\n"
     ]
    }
   ],
   "source": [
    "cursor.execute(\"\"\"\n",
    "    SELECT tp.lat, tp.lon\n",
    "    FROM TrackPoint tp\n",
    "    JOIN Activity a ON tp.activity_id = a.id\n",
    "    WHERE a.user_id = '112'\n",
    "      AND a.transportation_mode = 'walk'\n",
    "      AND YEAR(a.start_date_time) = 2008\n",
    "    ORDER BY a.id, tp.date_time\n",
    "\"\"\")\n",
    "trackpoints = cursor.fetchall()\n",
    "\n",
    "total_distance_km = 0\n",
    "for i in range(1, len(trackpoints)):\n",
    "    prev_point = (trackpoints[i-1][0], trackpoints[i-1][1])  # (lat, lon)\n",
    "    curr_point = (trackpoints[i][0], trackpoints[i][1])      # (lat, lon)\n",
    "    distance = haversine(prev_point, curr_point, unit=Unit.KILOMETERS)\n",
    "    total_distance_km += distance\n",
    "\n",
    "print(f\"Total distance walked in 2008 by user 112: {total_distance_km:.2f} km\")"
   ]
  },
  {
   "cell_type": "markdown",
   "metadata": {},
   "source": [
    "#### 8. Find the top 20 users who have gained the most altitude meters."
   ]
  },
  {
   "cell_type": "code",
   "execution_count": 14,
   "metadata": {},
   "outputs": [
    {
     "name": "stdout",
     "output_type": "stream",
     "text": [
      "+---------+-----------------------------+\n",
      "| User ID | Total Elevation Gain (feet) |\n",
      "+---------+-----------------------------+\n",
      "|   128   |           2135455           |\n",
      "|   153   |           1823683           |\n",
      "|   004   |           1089358           |\n",
      "|   041   |           789890            |\n",
      "|   003   |           766613            |\n",
      "|   085   |           714049            |\n",
      "|   163   |           673439            |\n",
      "|   062   |           596103            |\n",
      "|   144   |           588771            |\n",
      "|   030   |           576377            |\n",
      "|   039   |           481311            |\n",
      "|   084   |           430319            |\n",
      "|   000   |           398638            |\n",
      "|   002   |           377503            |\n",
      "|   167   |           370647            |\n",
      "|   025   |           358098            |\n",
      "|   037   |           325528            |\n",
      "|   140   |           311151            |\n",
      "|   126   |           272389            |\n",
      "|   017   |           205270            |\n",
      "+---------+-----------------------------+\n",
      "\n",
      " I only remove altitude values which we KNOW are invalid, ie. they are -777 as specified it the assignment or NULL.\n"
     ]
    }
   ],
   "source": [
    "cursor.execute(\"\"\"\n",
    "SELECT\n",
    "    a.user_id AS user_id,\n",
    "    SUM(CASE WHEN tp2.altitude > tp1.altitude THEN tp2.altitude - tp1.altitude ELSE 0 END) \n",
    "    AS total_elevation_gain\n",
    "FROM Activity AS a \n",
    "JOIN TrackPoint AS tp1 ON a.id = tp1.activity_id\n",
    "JOIN TrackPoint AS tp2 ON a.id = tp2.activity_id AND tp2.id = tp1.id + 1\n",
    "WHERE tp1.altitude IS NOT NULL AND tp2.altitude IS NOT NULL \n",
    "    AND tp1.altitude != -777 AND tp2.altitude != -777\n",
    "GROUP BY user_id\n",
    "ORDER BY total_elevation_gain DESC\n",
    "LIMIT 20\n",
    "\"\"\")\n",
    "\n",
    "rows = cursor.fetchall()\n",
    "print(tabulate(rows, headers=['User ID', 'Total Elevation Gain (feet)'], tablefmt='pretty'))\n",
    "print(\"\"\"\\n I only remove altitude values which we KNOW are invalid, \n",
    "      ie. they are -777 as specified it the assignment or NULL.\"\"\")"
   ]
  },
  {
   "cell_type": "markdown",
   "metadata": {},
   "source": [
    "#### 9. Find all users who have invalid activities, and the number of invalid activities per user"
   ]
  },
  {
   "cell_type": "code",
   "execution_count": 15,
   "metadata": {},
   "outputs": [
    {
     "name": "stdout",
     "output_type": "stream",
     "text": [
      "+---------+------------------------+\n",
      "| User ID | Invalid Activity Count |\n",
      "+---------+------------------------+\n",
      "|   000   |          101           |\n",
      "|   001   |           45           |\n",
      "|   002   |           98           |\n",
      "|   003   |          179           |\n",
      "|   004   |          219           |\n",
      "|   005   |           45           |\n",
      "|   006   |           17           |\n",
      "|   007   |           30           |\n",
      "|   008   |           16           |\n",
      "|   009   |           31           |\n",
      "|   010   |           50           |\n",
      "|   011   |           32           |\n",
      "|   012   |           43           |\n",
      "|   013   |           29           |\n",
      "|   014   |          118           |\n",
      "|   015   |           46           |\n",
      "|   016   |           20           |\n",
      "|   017   |          129           |\n",
      "|   018   |           27           |\n",
      "|   019   |           31           |\n",
      "|   020   |           20           |\n",
      "|   021   |           7            |\n",
      "|   022   |           55           |\n",
      "|   023   |           12           |\n",
      "|   024   |           27           |\n",
      "|   025   |          263           |\n",
      "|   026   |           18           |\n",
      "|   027   |           2            |\n",
      "|   028   |           36           |\n",
      "|   029   |           25           |\n",
      "|   030   |          112           |\n",
      "|   031   |           3            |\n",
      "|   032   |           12           |\n",
      "|   033   |           2            |\n",
      "|   034   |           88           |\n",
      "|   035   |           23           |\n",
      "|   036   |           34           |\n",
      "|   037   |          100           |\n",
      "|   038   |           58           |\n",
      "|   039   |          147           |\n",
      "|   040   |           17           |\n",
      "|   041   |          201           |\n",
      "|   042   |           55           |\n",
      "|   043   |           21           |\n",
      "|   044   |           32           |\n",
      "|   045   |           7            |\n",
      "|   046   |           13           |\n",
      "|   047   |           6            |\n",
      "|   048   |           1            |\n",
      "|   050   |           8            |\n",
      "|   051   |           36           |\n",
      "|   052   |           44           |\n",
      "|   053   |           7            |\n",
      "|   054   |           2            |\n",
      "|   055   |           15           |\n",
      "|   056   |           7            |\n",
      "|   057   |           16           |\n",
      "|   058   |           13           |\n",
      "|   059   |           5            |\n",
      "|   060   |           1            |\n",
      "|   061   |           12           |\n",
      "|   062   |          249           |\n",
      "|   063   |           8            |\n",
      "|   064   |           7            |\n",
      "|   065   |           26           |\n",
      "|   066   |           6            |\n",
      "|   067   |           33           |\n",
      "|   068   |          139           |\n",
      "|   069   |           6            |\n",
      "|   070   |           5            |\n",
      "|   071   |           29           |\n",
      "|   072   |           2            |\n",
      "|   073   |           18           |\n",
      "|   074   |           19           |\n",
      "|   075   |           6            |\n",
      "|   076   |           8            |\n",
      "|   077   |           3            |\n",
      "|   078   |           19           |\n",
      "|   079   |           2            |\n",
      "|   080   |           6            |\n",
      "|   081   |           16           |\n",
      "|   082   |           27           |\n",
      "|   083   |           15           |\n",
      "|   084   |           99           |\n",
      "|   085   |          184           |\n",
      "|   086   |           5            |\n",
      "|   087   |           3            |\n",
      "|   088   |           11           |\n",
      "|   089   |           40           |\n",
      "|   090   |           3            |\n",
      "|   091   |           63           |\n",
      "|   092   |          101           |\n",
      "|   093   |           4            |\n",
      "|   094   |           16           |\n",
      "|   095   |           4            |\n",
      "|   096   |           35           |\n",
      "|   097   |           14           |\n",
      "|   098   |           5            |\n",
      "|   099   |           11           |\n",
      "|   100   |           3            |\n",
      "|   101   |           46           |\n",
      "|   102   |           13           |\n",
      "|   103   |           24           |\n",
      "|   104   |           97           |\n",
      "|   105   |           9            |\n",
      "|   106   |           3            |\n",
      "|   107   |           1            |\n",
      "|   108   |           5            |\n",
      "|   109   |           3            |\n",
      "|   110   |           17           |\n",
      "|   111   |           26           |\n",
      "|   112   |           67           |\n",
      "|   113   |           1            |\n",
      "|   114   |           3            |\n",
      "|   115   |           58           |\n",
      "|   117   |           3            |\n",
      "|   118   |           3            |\n",
      "|   119   |           22           |\n",
      "|   121   |           4            |\n",
      "|   122   |           6            |\n",
      "|   123   |           3            |\n",
      "|   124   |           4            |\n",
      "|   125   |           25           |\n",
      "|   126   |          105           |\n",
      "|   127   |           4            |\n",
      "|   128   |          720           |\n",
      "|   129   |           6            |\n",
      "|   130   |           8            |\n",
      "|   131   |           10           |\n",
      "|   132   |           3            |\n",
      "|   133   |           4            |\n",
      "|   134   |           31           |\n",
      "|   135   |           5            |\n",
      "|   136   |           6            |\n",
      "|   138   |           10           |\n",
      "|   139   |           12           |\n",
      "|   140   |           86           |\n",
      "|   141   |           1            |\n",
      "|   142   |           52           |\n",
      "|   144   |          157           |\n",
      "|   145   |           5            |\n",
      "|   146   |           7            |\n",
      "|   147   |           30           |\n",
      "|   150   |           16           |\n",
      "|   151   |           1            |\n",
      "|   152   |           2            |\n",
      "|   153   |          558           |\n",
      "|   154   |           14           |\n",
      "|   155   |           30           |\n",
      "|   157   |           9            |\n",
      "|   158   |           9            |\n",
      "|   159   |           5            |\n",
      "|   161   |           7            |\n",
      "|   162   |           9            |\n",
      "|   163   |          233           |\n",
      "|   164   |           6            |\n",
      "|   165   |           2            |\n",
      "|   166   |           2            |\n",
      "|   167   |          134           |\n",
      "|   168   |           19           |\n",
      "|   169   |           9            |\n",
      "|   170   |           2            |\n",
      "|   171   |           3            |\n",
      "|   172   |           9            |\n",
      "|   173   |           5            |\n",
      "|   174   |           54           |\n",
      "|   175   |           4            |\n",
      "|   176   |           8            |\n",
      "|   179   |           28           |\n",
      "|   180   |           2            |\n",
      "|   181   |           14           |\n",
      "+---------+------------------------+\n"
     ]
    }
   ],
   "source": [
    "cursor.execute(\"\"\"\n",
    "    WITH InvalidActivities AS (\n",
    "        SELECT\n",
    "            tp1.activity_id\n",
    "        FROM\n",
    "            TrackPoint tp1\n",
    "        JOIN\n",
    "            TrackPoint tp2 ON tp1.activity_id = tp2.activity_id\n",
    "                        AND tp2.id = tp1.id + 1\n",
    "        WHERE\n",
    "            TIMESTAMPDIFF(MINUTE, tp1.date_time, tp2.date_time) >= 5\n",
    "        GROUP BY\n",
    "            tp1.activity_id\n",
    "    )\n",
    "    SELECT  \n",
    "        user_id,\n",
    "        COUNT(activity_id) AS invalid_activities_count\n",
    "    FROM\n",
    "        InvalidActivities as ia\n",
    "    JOIN Activity as a ON a.id = ia.activity_id\n",
    "    GROUP BY\n",
    "        user_id\n",
    "\"\"\")\n",
    "rows = cursor.fetchall()\n",
    "print(tabulate(rows, headers=['User ID', 'Invalid Activity Count'], tablefmt='pretty'))"
   ]
  },
  {
   "cell_type": "markdown",
   "metadata": {},
   "source": [
    "#### 10. Find the users who have tracked an activity in the Forbidden City of Beijing.  \n"
   ]
  },
  {
   "cell_type": "code",
   "execution_count": 16,
   "metadata": {},
   "outputs": [
    {
     "name": "stdout",
     "output_type": "stream",
     "text": [
      "+---------+\n",
      "| User ID |\n",
      "+---------+\n",
      "|   004   |\n",
      "|   018   |\n",
      "|   019   |\n",
      "|   131   |\n",
      "+---------+\n",
      "\n",
      " I provided a tiny range around the given coordinates to simplify the query.\n"
     ]
    }
   ],
   "source": [
    "cursor.execute(\"\"\"\n",
    "    SELECT user_id\n",
    "    FROM Activity a\n",
    "    JOIN TrackPoint tp ON a.id = tp.activity_id\n",
    "    WHERE tp.lat BETWEEN 39.915 AND 39.917\n",
    "      AND tp.lon BETWEEN 116.396 AND 116.398\n",
    "    GROUP BY user_id\n",
    "\"\"\")\n",
    "rows = cursor.fetchall()\n",
    "print(tabulate(rows, headers=['User ID'], tablefmt='pretty'))\n",
    "print(\"\\n I provided a tiny range around the given coordinates to simplify the query.\")"
   ]
  },
  {
   "cell_type": "markdown",
   "metadata": {},
   "source": [
    "#### 11. Find all users who have registered transportation_mode and their most used transportation_mode. "
   ]
  },
  {
   "cell_type": "code",
   "execution_count": 17,
   "metadata": {},
   "outputs": [
    {
     "name": "stdout",
     "output_type": "stream",
     "text": [
      "+---------+--------------------------------+\n",
      "| User ID |  Most Used Transportation Mode |\n",
      "+---------+--------------------------------+\n",
      "|   010   |              taxi              |\n",
      "|   020   |              bike              |\n",
      "|   021   |              walk              |\n",
      "|   052   |              bus               |\n",
      "|   056   |              bike              |\n",
      "|   058   |              car               |\n",
      "|   060   |              walk              |\n",
      "|   062   |              bus               |\n",
      "|   064   |              bike              |\n",
      "|   065   |              bike              |\n",
      "|   067   |              walk              |\n",
      "|   069   |              bike              |\n",
      "|   073   |              walk              |\n",
      "|   075   |              walk              |\n",
      "|   076   |              car               |\n",
      "|   078   |              walk              |\n",
      "|   080   |              bike              |\n",
      "|   081   |              bike              |\n",
      "|   082   |              walk              |\n",
      "|   084   |              walk              |\n",
      "|   085   |              walk              |\n",
      "|   086   |              car               |\n",
      "|   087   |              walk              |\n",
      "|   089   |              car               |\n",
      "|   091   |              bus               |\n",
      "|   092   |              bus               |\n",
      "|   097   |              bike              |\n",
      "|   098   |              taxi              |\n",
      "|   101   |              car               |\n",
      "|   102   |              bike              |\n",
      "|   107   |              walk              |\n",
      "|   108   |              walk              |\n",
      "|   111   |              taxi              |\n",
      "|   112   |              walk              |\n",
      "|   115   |              car               |\n",
      "|   117   |              walk              |\n",
      "|   125   |              bike              |\n",
      "|   126   |              bike              |\n",
      "|   128   |              car               |\n",
      "|   136   |              walk              |\n",
      "|   138   |              bike              |\n",
      "|   139   |              bike              |\n",
      "|   144   |              walk              |\n",
      "|   153   |              walk              |\n",
      "|   161   |              walk              |\n",
      "|   163   |              bike              |\n",
      "|   167   |              bike              |\n",
      "|   175   |              bus               |\n",
      "+---------+--------------------------------+\n",
      "\n",
      " The innermost subquery finds the user's most used transportation mode(s). The second subquery handles tie breaks alphabetically.\n"
     ]
    }
   ],
   "source": [
    "\n",
    "cursor.execute(\"\"\"\n",
    "    SELECT user_id, transportation_mode \n",
    "    FROM\n",
    "        (SELECT user_id, transportation_mode, \n",
    "        RANK() OVER(PARTITION BY user_id ORDER BY transportation_mode ASC) as lexrnk \n",
    "        FROM\n",
    "            (SELECT user_id, transportation_mode, COUNT(*) AS activity_count,\n",
    "            RANK() OVER(PARTITION BY user_id ORDER BY COUNT(*) DESC) as rnk\n",
    "            FROM Activity\n",
    "            WHERE transportation_mode IS NOT NULL\n",
    "            GROUP BY user_id, transportation_mode) AS Ranked\n",
    "        WHERE rnk = 1\n",
    "        ) AS LexRanked\n",
    "    WHERE lexrnk = 1\n",
    "    ORDER BY user_id\n",
    "    \"\"\")\n",
    "rows = cursor.fetchall()\n",
    "print(tabulate(rows, headers=['User ID',' Most Used Transportation Mode'], tablefmt='pretty'))\n",
    "print(\"\"\"\\n The innermost subquery finds the user's most used transportation mode(s). \n",
    "      The second subquery handles tie breaks alphabetically.\"\"\")"
   ]
  }
 ],
 "metadata": {
  "kernelspec": {
   "display_name": "myenv",
   "language": "python",
   "name": "python3"
  },
  "language_info": {
   "codemirror_mode": {
    "name": "ipython",
    "version": 3
   },
   "file_extension": ".py",
   "mimetype": "text/x-python",
   "name": "python",
   "nbconvert_exporter": "python",
   "pygments_lexer": "ipython3",
   "version": "3.11.5"
  }
 },
 "nbformat": 4,
 "nbformat_minor": 2
}
